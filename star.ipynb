{
 "cells": [
  {
   "cell_type": "code",
   "execution_count": 78,
   "metadata": {
    "collapsed": true
   },
   "outputs": [],
   "source": [
    "import pandas as pd\n",
    "import matplotlib.pyplot as plt\n",
    "import seaborn as sns\n",
    "%matplotlib inline\n",
    "from IPython.display import Image, display\n",
    "pd.options.display.max_colwidth = 100"
   ]
  },
  {
   "cell_type": "code",
   "execution_count": 2,
   "metadata": {
    "collapsed": true
   },
   "outputs": [],
   "source": [
    "dane_star = pd.read_csv('starwars.csv')"
   ]
  },
  {
   "cell_type": "code",
   "execution_count": 3,
   "metadata": {},
   "outputs": [
    {
     "data": {
      "text/html": [
       "<div>\n",
       "<style>\n",
       "    .dataframe thead tr:only-child th {\n",
       "        text-align: right;\n",
       "    }\n",
       "\n",
       "    .dataframe thead th {\n",
       "        text-align: left;\n",
       "    }\n",
       "\n",
       "    .dataframe tbody tr th {\n",
       "        vertical-align: top;\n",
       "    }\n",
       "</style>\n",
       "<table border=\"1\" class=\"dataframe\">\n",
       "  <thead>\n",
       "    <tr style=\"text-align: right;\">\n",
       "      <th></th>\n",
       "      <th>SetID</th>\n",
       "      <th>Number</th>\n",
       "      <th>Variant</th>\n",
       "      <th>Theme</th>\n",
       "      <th>Subtheme</th>\n",
       "      <th>Year</th>\n",
       "      <th>Name</th>\n",
       "      <th>Minifigs</th>\n",
       "      <th>Pieces</th>\n",
       "      <th>UKPrice</th>\n",
       "      <th>USPrice</th>\n",
       "      <th>CAPrice</th>\n",
       "      <th>EUPrice</th>\n",
       "      <th>ImageURL</th>\n",
       "      <th>Owned</th>\n",
       "      <th>Wanted</th>\n",
       "      <th>QtyOwned</th>\n",
       "    </tr>\n",
       "  </thead>\n",
       "  <tbody>\n",
       "    <tr>\n",
       "      <th>0</th>\n",
       "      <td>5860</td>\n",
       "      <td>10179</td>\n",
       "      <td>1</td>\n",
       "      <td>Star Wars</td>\n",
       "      <td>Ultimate Collector Series</td>\n",
       "      <td>2007</td>\n",
       "      <td>Ultimate Collector's Millennium Falcon</td>\n",
       "      <td>5.0</td>\n",
       "      <td>5197.0</td>\n",
       "      <td>342.49</td>\n",
       "      <td>499.99</td>\n",
       "      <td>NaN</td>\n",
       "      <td>NaN</td>\n",
       "      <td>http://images.brickset.com/sets/images/10179-1.jpg</td>\n",
       "      <td>No</td>\n",
       "      <td>No</td>\n",
       "      <td>0</td>\n",
       "    </tr>\n",
       "    <tr>\n",
       "      <th>1</th>\n",
       "      <td>6522</td>\n",
       "      <td>10188</td>\n",
       "      <td>1</td>\n",
       "      <td>Star Wars</td>\n",
       "      <td>Ultimate Collector Series</td>\n",
       "      <td>2008</td>\n",
       "      <td>Death Star</td>\n",
       "      <td>24.0</td>\n",
       "      <td>3803.0</td>\n",
       "      <td>274.99</td>\n",
       "      <td>399.99</td>\n",
       "      <td>499.99</td>\n",
       "      <td>419.99</td>\n",
       "      <td>http://images.brickset.com/sets/images/10188-1.jpg</td>\n",
       "      <td>No</td>\n",
       "      <td>No</td>\n",
       "      <td>0</td>\n",
       "    </tr>\n",
       "    <tr>\n",
       "      <th>2</th>\n",
       "      <td>4799</td>\n",
       "      <td>10143</td>\n",
       "      <td>1</td>\n",
       "      <td>Star Wars</td>\n",
       "      <td>Ultimate Collector Series</td>\n",
       "      <td>2005</td>\n",
       "      <td>Death Star II</td>\n",
       "      <td>NaN</td>\n",
       "      <td>3441.0</td>\n",
       "      <td>249.99</td>\n",
       "      <td>269.99</td>\n",
       "      <td>NaN</td>\n",
       "      <td>NaN</td>\n",
       "      <td>http://images.brickset.com/sets/images/10143-1.jpg</td>\n",
       "      <td>No</td>\n",
       "      <td>No</td>\n",
       "      <td>0</td>\n",
       "    </tr>\n",
       "  </tbody>\n",
       "</table>\n",
       "</div>"
      ],
      "text/plain": [
       "   SetID Number  Variant      Theme                   Subtheme  Year  \\\n",
       "0   5860  10179        1  Star Wars  Ultimate Collector Series  2007   \n",
       "1   6522  10188        1  Star Wars  Ultimate Collector Series  2008   \n",
       "2   4799  10143        1  Star Wars  Ultimate Collector Series  2005   \n",
       "\n",
       "                                     Name  Minifigs  Pieces  UKPrice  USPrice  \\\n",
       "0  Ultimate Collector's Millennium Falcon       5.0  5197.0   342.49   499.99   \n",
       "1                              Death Star      24.0  3803.0   274.99   399.99   \n",
       "2                           Death Star II       NaN  3441.0   249.99   269.99   \n",
       "\n",
       "   CAPrice  EUPrice                                            ImageURL Owned  \\\n",
       "0      NaN      NaN  http://images.brickset.com/sets/images/10179-1.jpg    No   \n",
       "1   499.99   419.99  http://images.brickset.com/sets/images/10188-1.jpg    No   \n",
       "2      NaN      NaN  http://images.brickset.com/sets/images/10143-1.jpg    No   \n",
       "\n",
       "  Wanted  QtyOwned  \n",
       "0     No         0  \n",
       "1     No         0  \n",
       "2     No         0  "
      ]
     },
     "execution_count": 3,
     "metadata": {},
     "output_type": "execute_result"
    }
   ],
   "source": [
    "dane_star.head(3)"
   ]
  },
  {
   "cell_type": "code",
   "execution_count": 4,
   "metadata": {},
   "outputs": [
    {
     "data": {
      "text/html": [
       "<div>\n",
       "<style>\n",
       "    .dataframe thead tr:only-child th {\n",
       "        text-align: right;\n",
       "    }\n",
       "\n",
       "    .dataframe thead th {\n",
       "        text-align: left;\n",
       "    }\n",
       "\n",
       "    .dataframe tbody tr th {\n",
       "        vertical-align: top;\n",
       "    }\n",
       "</style>\n",
       "<table border=\"1\" class=\"dataframe\">\n",
       "  <thead>\n",
       "    <tr style=\"text-align: right;\">\n",
       "      <th></th>\n",
       "      <th>SetID</th>\n",
       "      <th>Number</th>\n",
       "      <th>Variant</th>\n",
       "      <th>Theme</th>\n",
       "      <th>Subtheme</th>\n",
       "      <th>Year</th>\n",
       "      <th>Name</th>\n",
       "      <th>Minifigs</th>\n",
       "      <th>Pieces</th>\n",
       "      <th>UKPrice</th>\n",
       "      <th>USPrice</th>\n",
       "      <th>CAPrice</th>\n",
       "      <th>EUPrice</th>\n",
       "      <th>ImageURL</th>\n",
       "      <th>Owned</th>\n",
       "      <th>Wanted</th>\n",
       "      <th>QtyOwned</th>\n",
       "    </tr>\n",
       "  </thead>\n",
       "  <tbody>\n",
       "    <tr>\n",
       "      <th>0</th>\n",
       "      <td>5860</td>\n",
       "      <td>10179</td>\n",
       "      <td>1</td>\n",
       "      <td>Star Wars</td>\n",
       "      <td>Ultimate Collector Series</td>\n",
       "      <td>2007</td>\n",
       "      <td>Ultimate Collector's Millennium Falcon</td>\n",
       "      <td>5.0</td>\n",
       "      <td>5197.0</td>\n",
       "      <td>342.49</td>\n",
       "      <td>499.99</td>\n",
       "      <td>NaN</td>\n",
       "      <td>NaN</td>\n",
       "      <td>http://images.brickset.com/sets/images/10179-1.jpg</td>\n",
       "      <td>No</td>\n",
       "      <td>No</td>\n",
       "      <td>0</td>\n",
       "    </tr>\n",
       "    <tr>\n",
       "      <th>1</th>\n",
       "      <td>6522</td>\n",
       "      <td>10188</td>\n",
       "      <td>1</td>\n",
       "      <td>Star Wars</td>\n",
       "      <td>Ultimate Collector Series</td>\n",
       "      <td>2008</td>\n",
       "      <td>Death Star</td>\n",
       "      <td>24.0</td>\n",
       "      <td>3803.0</td>\n",
       "      <td>274.99</td>\n",
       "      <td>399.99</td>\n",
       "      <td>499.99</td>\n",
       "      <td>419.99</td>\n",
       "      <td>http://images.brickset.com/sets/images/10188-1.jpg</td>\n",
       "      <td>No</td>\n",
       "      <td>No</td>\n",
       "      <td>0</td>\n",
       "    </tr>\n",
       "    <tr>\n",
       "      <th>2</th>\n",
       "      <td>4799</td>\n",
       "      <td>10143</td>\n",
       "      <td>1</td>\n",
       "      <td>Star Wars</td>\n",
       "      <td>Ultimate Collector Series</td>\n",
       "      <td>2005</td>\n",
       "      <td>Death Star II</td>\n",
       "      <td>NaN</td>\n",
       "      <td>3441.0</td>\n",
       "      <td>249.99</td>\n",
       "      <td>269.99</td>\n",
       "      <td>NaN</td>\n",
       "      <td>NaN</td>\n",
       "      <td>http://images.brickset.com/sets/images/10143-1.jpg</td>\n",
       "      <td>No</td>\n",
       "      <td>No</td>\n",
       "      <td>0</td>\n",
       "    </tr>\n",
       "    <tr>\n",
       "      <th>3</th>\n",
       "      <td>23529</td>\n",
       "      <td>75059</td>\n",
       "      <td>1</td>\n",
       "      <td>Star Wars</td>\n",
       "      <td>Ultimate Collector Series</td>\n",
       "      <td>2014</td>\n",
       "      <td>Sandcrawler</td>\n",
       "      <td>14.0</td>\n",
       "      <td>3296.0</td>\n",
       "      <td>249.99</td>\n",
       "      <td>299.99</td>\n",
       "      <td>349.99</td>\n",
       "      <td>299.99</td>\n",
       "      <td>http://images.brickset.com/sets/images/75059-1.jpg</td>\n",
       "      <td>No</td>\n",
       "      <td>No</td>\n",
       "      <td>0</td>\n",
       "    </tr>\n",
       "    <tr>\n",
       "      <th>4</th>\n",
       "      <td>8733</td>\n",
       "      <td>10221</td>\n",
       "      <td>1</td>\n",
       "      <td>Star Wars</td>\n",
       "      <td>Ultimate Collector Series</td>\n",
       "      <td>2011</td>\n",
       "      <td>Super Star Destroyer</td>\n",
       "      <td>5.0</td>\n",
       "      <td>3152.0</td>\n",
       "      <td>349.99</td>\n",
       "      <td>399.99</td>\n",
       "      <td>499.99</td>\n",
       "      <td>399.99</td>\n",
       "      <td>http://images.brickset.com/sets/images/10221-1.jpg</td>\n",
       "      <td>No</td>\n",
       "      <td>No</td>\n",
       "      <td>0</td>\n",
       "    </tr>\n",
       "  </tbody>\n",
       "</table>\n",
       "</div>"
      ],
      "text/plain": [
       "   SetID Number  Variant      Theme                   Subtheme  Year  \\\n",
       "0   5860  10179        1  Star Wars  Ultimate Collector Series  2007   \n",
       "1   6522  10188        1  Star Wars  Ultimate Collector Series  2008   \n",
       "2   4799  10143        1  Star Wars  Ultimate Collector Series  2005   \n",
       "3  23529  75059        1  Star Wars  Ultimate Collector Series  2014   \n",
       "4   8733  10221        1  Star Wars  Ultimate Collector Series  2011   \n",
       "\n",
       "                                     Name  Minifigs  Pieces  UKPrice  USPrice  \\\n",
       "0  Ultimate Collector's Millennium Falcon       5.0  5197.0   342.49   499.99   \n",
       "1                              Death Star      24.0  3803.0   274.99   399.99   \n",
       "2                           Death Star II       NaN  3441.0   249.99   269.99   \n",
       "3                             Sandcrawler      14.0  3296.0   249.99   299.99   \n",
       "4                   Super Star Destroyer        5.0  3152.0   349.99   399.99   \n",
       "\n",
       "   CAPrice  EUPrice                                            ImageURL Owned  \\\n",
       "0      NaN      NaN  http://images.brickset.com/sets/images/10179-1.jpg    No   \n",
       "1   499.99   419.99  http://images.brickset.com/sets/images/10188-1.jpg    No   \n",
       "2      NaN      NaN  http://images.brickset.com/sets/images/10143-1.jpg    No   \n",
       "3   349.99   299.99  http://images.brickset.com/sets/images/75059-1.jpg    No   \n",
       "4   499.99   399.99  http://images.brickset.com/sets/images/10221-1.jpg    No   \n",
       "\n",
       "  Wanted  QtyOwned  \n",
       "0     No         0  \n",
       "1     No         0  \n",
       "2     No         0  \n",
       "3     No         0  \n",
       "4     No         0  "
      ]
     },
     "execution_count": 4,
     "metadata": {},
     "output_type": "execute_result"
    }
   ],
   "source": [
    "dane_star.head(5)"
   ]
  },
  {
   "cell_type": "code",
   "execution_count": 5,
   "metadata": {},
   "outputs": [
    {
     "data": {
      "text/html": [
       "<div>\n",
       "<style>\n",
       "    .dataframe thead tr:only-child th {\n",
       "        text-align: right;\n",
       "    }\n",
       "\n",
       "    .dataframe thead th {\n",
       "        text-align: left;\n",
       "    }\n",
       "\n",
       "    .dataframe tbody tr th {\n",
       "        vertical-align: top;\n",
       "    }\n",
       "</style>\n",
       "<table border=\"1\" class=\"dataframe\">\n",
       "  <thead>\n",
       "    <tr style=\"text-align: right;\">\n",
       "      <th></th>\n",
       "      <th>SetID</th>\n",
       "      <th>Variant</th>\n",
       "      <th>Year</th>\n",
       "      <th>Minifigs</th>\n",
       "      <th>Pieces</th>\n",
       "      <th>UKPrice</th>\n",
       "      <th>USPrice</th>\n",
       "      <th>CAPrice</th>\n",
       "      <th>EUPrice</th>\n",
       "      <th>QtyOwned</th>\n",
       "    </tr>\n",
       "  </thead>\n",
       "  <tbody>\n",
       "    <tr>\n",
       "      <th>count</th>\n",
       "      <td>508.000000</td>\n",
       "      <td>508.000000</td>\n",
       "      <td>508.000000</td>\n",
       "      <td>324.000000</td>\n",
       "      <td>473.000000</td>\n",
       "      <td>298.000000</td>\n",
       "      <td>390.000000</td>\n",
       "      <td>182.000000</td>\n",
       "      <td>171.000000</td>\n",
       "      <td>508.0</td>\n",
       "    </tr>\n",
       "    <tr>\n",
       "      <th>mean</th>\n",
       "      <td>12127.389764</td>\n",
       "      <td>1.005906</td>\n",
       "      <td>2009.622047</td>\n",
       "      <td>3.783951</td>\n",
       "      <td>390.892178</td>\n",
       "      <td>45.793725</td>\n",
       "      <td>48.701949</td>\n",
       "      <td>74.720495</td>\n",
       "      <td>62.122807</td>\n",
       "      <td>0.0</td>\n",
       "    </tr>\n",
       "    <tr>\n",
       "      <th>std</th>\n",
       "      <td>8550.488882</td>\n",
       "      <td>0.076696</td>\n",
       "      <td>5.022127</td>\n",
       "      <td>2.944732</td>\n",
       "      <td>547.262989</td>\n",
       "      <td>51.543902</td>\n",
       "      <td>60.096567</td>\n",
       "      <td>79.878785</td>\n",
       "      <td>66.707473</td>\n",
       "      <td>0.0</td>\n",
       "    </tr>\n",
       "    <tr>\n",
       "      <th>min</th>\n",
       "      <td>21.000000</td>\n",
       "      <td>1.000000</td>\n",
       "      <td>1999.000000</td>\n",
       "      <td>1.000000</td>\n",
       "      <td>1.000000</td>\n",
       "      <td>0.000000</td>\n",
       "      <td>0.000000</td>\n",
       "      <td>6.990000</td>\n",
       "      <td>0.000000</td>\n",
       "      <td>0.0</td>\n",
       "    </tr>\n",
       "    <tr>\n",
       "      <th>25%</th>\n",
       "      <td>5528.250000</td>\n",
       "      <td>1.000000</td>\n",
       "      <td>2005.000000</td>\n",
       "      <td>2.000000</td>\n",
       "      <td>81.000000</td>\n",
       "      <td>11.990000</td>\n",
       "      <td>10.000000</td>\n",
       "      <td>24.990000</td>\n",
       "      <td>19.990000</td>\n",
       "      <td>0.0</td>\n",
       "    </tr>\n",
       "    <tr>\n",
       "      <th>50%</th>\n",
       "      <td>8727.500000</td>\n",
       "      <td>1.000000</td>\n",
       "      <td>2011.000000</td>\n",
       "      <td>3.000000</td>\n",
       "      <td>226.000000</td>\n",
       "      <td>29.990000</td>\n",
       "      <td>29.990000</td>\n",
       "      <td>49.990000</td>\n",
       "      <td>39.990000</td>\n",
       "      <td>0.0</td>\n",
       "    </tr>\n",
       "    <tr>\n",
       "      <th>75%</th>\n",
       "      <td>23366.250000</td>\n",
       "      <td>1.000000</td>\n",
       "      <td>2014.000000</td>\n",
       "      <td>5.000000</td>\n",
       "      <td>465.000000</td>\n",
       "      <td>59.990000</td>\n",
       "      <td>53.742500</td>\n",
       "      <td>89.990000</td>\n",
       "      <td>74.990000</td>\n",
       "      <td>0.0</td>\n",
       "    </tr>\n",
       "    <tr>\n",
       "      <th>max</th>\n",
       "      <td>25870.000000</td>\n",
       "      <td>2.000000</td>\n",
       "      <td>2016.000000</td>\n",
       "      <td>24.000000</td>\n",
       "      <td>5197.000000</td>\n",
       "      <td>349.990000</td>\n",
       "      <td>499.990000</td>\n",
       "      <td>499.990000</td>\n",
       "      <td>419.990000</td>\n",
       "      <td>0.0</td>\n",
       "    </tr>\n",
       "  </tbody>\n",
       "</table>\n",
       "</div>"
      ],
      "text/plain": [
       "              SetID     Variant         Year    Minifigs       Pieces  \\\n",
       "count    508.000000  508.000000   508.000000  324.000000   473.000000   \n",
       "mean   12127.389764    1.005906  2009.622047    3.783951   390.892178   \n",
       "std     8550.488882    0.076696     5.022127    2.944732   547.262989   \n",
       "min       21.000000    1.000000  1999.000000    1.000000     1.000000   \n",
       "25%     5528.250000    1.000000  2005.000000    2.000000    81.000000   \n",
       "50%     8727.500000    1.000000  2011.000000    3.000000   226.000000   \n",
       "75%    23366.250000    1.000000  2014.000000    5.000000   465.000000   \n",
       "max    25870.000000    2.000000  2016.000000   24.000000  5197.000000   \n",
       "\n",
       "          UKPrice     USPrice     CAPrice     EUPrice  QtyOwned  \n",
       "count  298.000000  390.000000  182.000000  171.000000     508.0  \n",
       "mean    45.793725   48.701949   74.720495   62.122807       0.0  \n",
       "std     51.543902   60.096567   79.878785   66.707473       0.0  \n",
       "min      0.000000    0.000000    6.990000    0.000000       0.0  \n",
       "25%     11.990000   10.000000   24.990000   19.990000       0.0  \n",
       "50%     29.990000   29.990000   49.990000   39.990000       0.0  \n",
       "75%     59.990000   53.742500   89.990000   74.990000       0.0  \n",
       "max    349.990000  499.990000  499.990000  419.990000       0.0  "
      ]
     },
     "execution_count": 5,
     "metadata": {},
     "output_type": "execute_result"
    }
   ],
   "source": [
    "dane_star.describe()"
   ]
  },
  {
   "cell_type": "code",
   "execution_count": 22,
   "metadata": {},
   "outputs": [
    {
     "data": {
      "text/html": [
       "<div>\n",
       "<style>\n",
       "    .dataframe thead tr:only-child th {\n",
       "        text-align: right;\n",
       "    }\n",
       "\n",
       "    .dataframe thead th {\n",
       "        text-align: left;\n",
       "    }\n",
       "\n",
       "    .dataframe tbody tr th {\n",
       "        vertical-align: top;\n",
       "    }\n",
       "</style>\n",
       "<table border=\"1\" class=\"dataframe\">\n",
       "  <thead>\n",
       "    <tr style=\"text-align: right;\">\n",
       "      <th></th>\n",
       "      <th>SetID</th>\n",
       "      <th>Number</th>\n",
       "      <th>Variant</th>\n",
       "      <th>Theme</th>\n",
       "      <th>Subtheme</th>\n",
       "      <th>Year</th>\n",
       "      <th>Name</th>\n",
       "      <th>Minifigs</th>\n",
       "      <th>Pieces</th>\n",
       "      <th>UKPrice</th>\n",
       "      <th>USPrice</th>\n",
       "      <th>CAPrice</th>\n",
       "      <th>EUPrice</th>\n",
       "      <th>ImageURL</th>\n",
       "      <th>Owned</th>\n",
       "      <th>Wanted</th>\n",
       "      <th>QtyOwned</th>\n",
       "    </tr>\n",
       "  </thead>\n",
       "  <tbody>\n",
       "    <tr>\n",
       "      <th>1</th>\n",
       "      <td>6522</td>\n",
       "      <td>10188</td>\n",
       "      <td>1</td>\n",
       "      <td>Star Wars</td>\n",
       "      <td>Ultimate Collector Series</td>\n",
       "      <td>2008</td>\n",
       "      <td>Death Star</td>\n",
       "      <td>24.0</td>\n",
       "      <td>3803.0</td>\n",
       "      <td>274.99</td>\n",
       "      <td>399.99</td>\n",
       "      <td>499.99</td>\n",
       "      <td>419.99</td>\n",
       "      <td>http://images.brickset.com/sets/images/10188-1.jpg</td>\n",
       "      <td>No</td>\n",
       "      <td>No</td>\n",
       "      <td>0</td>\n",
       "    </tr>\n",
       "    <tr>\n",
       "      <th>23</th>\n",
       "      <td>5610</td>\n",
       "      <td>7662</td>\n",
       "      <td>1</td>\n",
       "      <td>Star Wars</td>\n",
       "      <td>Episode I</td>\n",
       "      <td>2007</td>\n",
       "      <td>Trade Federation MTT</td>\n",
       "      <td>21.0</td>\n",
       "      <td>1330.0</td>\n",
       "      <td>78.29</td>\n",
       "      <td>99.99</td>\n",
       "      <td>NaN</td>\n",
       "      <td>NaN</td>\n",
       "      <td>http://images.brickset.com/sets/images/7662-1.jpg</td>\n",
       "      <td>No</td>\n",
       "      <td>No</td>\n",
       "      <td>0</td>\n",
       "    </tr>\n",
       "    <tr>\n",
       "      <th>9</th>\n",
       "      <td>22807</td>\n",
       "      <td>10236</td>\n",
       "      <td>1</td>\n",
       "      <td>Star Wars</td>\n",
       "      <td>Episode VI</td>\n",
       "      <td>2013</td>\n",
       "      <td>Ewok Village</td>\n",
       "      <td>17.0</td>\n",
       "      <td>1990.0</td>\n",
       "      <td>199.99</td>\n",
       "      <td>249.99</td>\n",
       "      <td>299.99</td>\n",
       "      <td>249.99</td>\n",
       "      <td>http://images.brickset.com/sets/images/10236-1.jpg</td>\n",
       "      <td>No</td>\n",
       "      <td>No</td>\n",
       "      <td>0</td>\n",
       "    </tr>\n",
       "    <tr>\n",
       "      <th>97</th>\n",
       "      <td>24007</td>\n",
       "      <td>75086</td>\n",
       "      <td>1</td>\n",
       "      <td>Star Wars</td>\n",
       "      <td>Episode I</td>\n",
       "      <td>2015</td>\n",
       "      <td>Battle Droid Troop Carrier</td>\n",
       "      <td>15.0</td>\n",
       "      <td>565.0</td>\n",
       "      <td>39.99</td>\n",
       "      <td>39.99</td>\n",
       "      <td>49.99</td>\n",
       "      <td>49.99</td>\n",
       "      <td>http://images.brickset.com/sets/images/75086-1.jpg</td>\n",
       "      <td>No</td>\n",
       "      <td>No</td>\n",
       "      <td>0</td>\n",
       "    </tr>\n",
       "    <tr>\n",
       "      <th>3</th>\n",
       "      <td>23529</td>\n",
       "      <td>75059</td>\n",
       "      <td>1</td>\n",
       "      <td>Star Wars</td>\n",
       "      <td>Ultimate Collector Series</td>\n",
       "      <td>2014</td>\n",
       "      <td>Sandcrawler</td>\n",
       "      <td>14.0</td>\n",
       "      <td>3296.0</td>\n",
       "      <td>249.99</td>\n",
       "      <td>299.99</td>\n",
       "      <td>349.99</td>\n",
       "      <td>299.99</td>\n",
       "      <td>http://images.brickset.com/sets/images/75059-1.jpg</td>\n",
       "      <td>No</td>\n",
       "      <td>No</td>\n",
       "      <td>0</td>\n",
       "    </tr>\n",
       "  </tbody>\n",
       "</table>\n",
       "</div>"
      ],
      "text/plain": [
       "    SetID Number  Variant      Theme                   Subtheme  Year  \\\n",
       "1    6522  10188        1  Star Wars  Ultimate Collector Series  2008   \n",
       "23   5610   7662        1  Star Wars                  Episode I  2007   \n",
       "9   22807  10236        1  Star Wars                 Episode VI  2013   \n",
       "97  24007  75086        1  Star Wars                  Episode I  2015   \n",
       "3   23529  75059        1  Star Wars  Ultimate Collector Series  2014   \n",
       "\n",
       "                          Name  Minifigs  Pieces  UKPrice  USPrice  CAPrice  \\\n",
       "1                   Death Star      24.0  3803.0   274.99   399.99   499.99   \n",
       "23        Trade Federation MTT      21.0  1330.0    78.29    99.99      NaN   \n",
       "9                 Ewok Village      17.0  1990.0   199.99   249.99   299.99   \n",
       "97  Battle Droid Troop Carrier      15.0   565.0    39.99    39.99    49.99   \n",
       "3                  Sandcrawler      14.0  3296.0   249.99   299.99   349.99   \n",
       "\n",
       "    EUPrice                                            ImageURL Owned Wanted  \\\n",
       "1    419.99  http://images.brickset.com/sets/images/10188-1.jpg    No     No   \n",
       "23      NaN   http://images.brickset.com/sets/images/7662-1.jpg    No     No   \n",
       "9    249.99  http://images.brickset.com/sets/images/10236-1.jpg    No     No   \n",
       "97    49.99  http://images.brickset.com/sets/images/75086-1.jpg    No     No   \n",
       "3    299.99  http://images.brickset.com/sets/images/75059-1.jpg    No     No   \n",
       "\n",
       "    QtyOwned  \n",
       "1          0  \n",
       "23         0  \n",
       "9          0  \n",
       "97         0  \n",
       "3          0  "
      ]
     },
     "execution_count": 22,
     "metadata": {},
     "output_type": "execute_result"
    }
   ],
   "source": [
    "dane_star.sort_values('Minifigs',ascending=False).head()"
   ]
  },
  {
   "cell_type": "code",
   "execution_count": 23,
   "metadata": {},
   "outputs": [
    {
     "data": {
      "text/html": [
       "<div>\n",
       "<style>\n",
       "    .dataframe thead tr:only-child th {\n",
       "        text-align: right;\n",
       "    }\n",
       "\n",
       "    .dataframe thead th {\n",
       "        text-align: left;\n",
       "    }\n",
       "\n",
       "    .dataframe tbody tr th {\n",
       "        vertical-align: top;\n",
       "    }\n",
       "</style>\n",
       "<table border=\"1\" class=\"dataframe\">\n",
       "  <thead>\n",
       "    <tr style=\"text-align: right;\">\n",
       "      <th></th>\n",
       "      <th>SetID</th>\n",
       "      <th>Number</th>\n",
       "      <th>Variant</th>\n",
       "      <th>Theme</th>\n",
       "      <th>Subtheme</th>\n",
       "      <th>Year</th>\n",
       "      <th>Name</th>\n",
       "      <th>Minifigs</th>\n",
       "      <th>Pieces</th>\n",
       "      <th>UKPrice</th>\n",
       "      <th>USPrice</th>\n",
       "      <th>CAPrice</th>\n",
       "      <th>EUPrice</th>\n",
       "      <th>ImageURL</th>\n",
       "      <th>Owned</th>\n",
       "      <th>Wanted</th>\n",
       "      <th>QtyOwned</th>\n",
       "    </tr>\n",
       "  </thead>\n",
       "  <tbody>\n",
       "    <tr>\n",
       "      <th>0</th>\n",
       "      <td>5860</td>\n",
       "      <td>10179</td>\n",
       "      <td>1</td>\n",
       "      <td>Star Wars</td>\n",
       "      <td>Ultimate Collector Series</td>\n",
       "      <td>2007</td>\n",
       "      <td>Ultimate Collector's Millennium Falcon</td>\n",
       "      <td>5.0</td>\n",
       "      <td>5197.0</td>\n",
       "      <td>342.49</td>\n",
       "      <td>499.99</td>\n",
       "      <td>NaN</td>\n",
       "      <td>NaN</td>\n",
       "      <td>http://images.brickset.com/sets/images/10179-1.jpg</td>\n",
       "      <td>No</td>\n",
       "      <td>No</td>\n",
       "      <td>0</td>\n",
       "    </tr>\n",
       "    <tr>\n",
       "      <th>1</th>\n",
       "      <td>6522</td>\n",
       "      <td>10188</td>\n",
       "      <td>1</td>\n",
       "      <td>Star Wars</td>\n",
       "      <td>Ultimate Collector Series</td>\n",
       "      <td>2008</td>\n",
       "      <td>Death Star</td>\n",
       "      <td>24.0</td>\n",
       "      <td>3803.0</td>\n",
       "      <td>274.99</td>\n",
       "      <td>399.99</td>\n",
       "      <td>499.99</td>\n",
       "      <td>419.99</td>\n",
       "      <td>http://images.brickset.com/sets/images/10188-1.jpg</td>\n",
       "      <td>No</td>\n",
       "      <td>No</td>\n",
       "      <td>0</td>\n",
       "    </tr>\n",
       "    <tr>\n",
       "      <th>2</th>\n",
       "      <td>4799</td>\n",
       "      <td>10143</td>\n",
       "      <td>1</td>\n",
       "      <td>Star Wars</td>\n",
       "      <td>Ultimate Collector Series</td>\n",
       "      <td>2005</td>\n",
       "      <td>Death Star II</td>\n",
       "      <td>NaN</td>\n",
       "      <td>3441.0</td>\n",
       "      <td>249.99</td>\n",
       "      <td>269.99</td>\n",
       "      <td>NaN</td>\n",
       "      <td>NaN</td>\n",
       "      <td>http://images.brickset.com/sets/images/10143-1.jpg</td>\n",
       "      <td>No</td>\n",
       "      <td>No</td>\n",
       "      <td>0</td>\n",
       "    </tr>\n",
       "    <tr>\n",
       "      <th>3</th>\n",
       "      <td>23529</td>\n",
       "      <td>75059</td>\n",
       "      <td>1</td>\n",
       "      <td>Star Wars</td>\n",
       "      <td>Ultimate Collector Series</td>\n",
       "      <td>2014</td>\n",
       "      <td>Sandcrawler</td>\n",
       "      <td>14.0</td>\n",
       "      <td>3296.0</td>\n",
       "      <td>249.99</td>\n",
       "      <td>299.99</td>\n",
       "      <td>349.99</td>\n",
       "      <td>299.99</td>\n",
       "      <td>http://images.brickset.com/sets/images/75059-1.jpg</td>\n",
       "      <td>No</td>\n",
       "      <td>No</td>\n",
       "      <td>0</td>\n",
       "    </tr>\n",
       "    <tr>\n",
       "      <th>4</th>\n",
       "      <td>8733</td>\n",
       "      <td>10221</td>\n",
       "      <td>1</td>\n",
       "      <td>Star Wars</td>\n",
       "      <td>Ultimate Collector Series</td>\n",
       "      <td>2011</td>\n",
       "      <td>Super Star Destroyer</td>\n",
       "      <td>5.0</td>\n",
       "      <td>3152.0</td>\n",
       "      <td>349.99</td>\n",
       "      <td>399.99</td>\n",
       "      <td>499.99</td>\n",
       "      <td>399.99</td>\n",
       "      <td>http://images.brickset.com/sets/images/10221-1.jpg</td>\n",
       "      <td>No</td>\n",
       "      <td>No</td>\n",
       "      <td>0</td>\n",
       "    </tr>\n",
       "  </tbody>\n",
       "</table>\n",
       "</div>"
      ],
      "text/plain": [
       "   SetID Number  Variant      Theme                   Subtheme  Year  \\\n",
       "0   5860  10179        1  Star Wars  Ultimate Collector Series  2007   \n",
       "1   6522  10188        1  Star Wars  Ultimate Collector Series  2008   \n",
       "2   4799  10143        1  Star Wars  Ultimate Collector Series  2005   \n",
       "3  23529  75059        1  Star Wars  Ultimate Collector Series  2014   \n",
       "4   8733  10221        1  Star Wars  Ultimate Collector Series  2011   \n",
       "\n",
       "                                     Name  Minifigs  Pieces  UKPrice  USPrice  \\\n",
       "0  Ultimate Collector's Millennium Falcon       5.0  5197.0   342.49   499.99   \n",
       "1                              Death Star      24.0  3803.0   274.99   399.99   \n",
       "2                           Death Star II       NaN  3441.0   249.99   269.99   \n",
       "3                             Sandcrawler      14.0  3296.0   249.99   299.99   \n",
       "4                   Super Star Destroyer        5.0  3152.0   349.99   399.99   \n",
       "\n",
       "   CAPrice  EUPrice                                            ImageURL Owned  \\\n",
       "0      NaN      NaN  http://images.brickset.com/sets/images/10179-1.jpg    No   \n",
       "1   499.99   419.99  http://images.brickset.com/sets/images/10188-1.jpg    No   \n",
       "2      NaN      NaN  http://images.brickset.com/sets/images/10143-1.jpg    No   \n",
       "3   349.99   299.99  http://images.brickset.com/sets/images/75059-1.jpg    No   \n",
       "4   499.99   399.99  http://images.brickset.com/sets/images/10221-1.jpg    No   \n",
       "\n",
       "  Wanted  QtyOwned  \n",
       "0     No         0  \n",
       "1     No         0  \n",
       "2     No         0  \n",
       "3     No         0  \n",
       "4     No         0  "
      ]
     },
     "execution_count": 23,
     "metadata": {},
     "output_type": "execute_result"
    }
   ],
   "source": [
    "dane_star.sort_values('Pieces',ascending=False).head()"
   ]
  },
  {
   "cell_type": "code",
   "execution_count": 39,
   "metadata": {},
   "outputs": [
    {
     "data": {
      "text/html": [
       "<div>\n",
       "<style>\n",
       "    .dataframe thead tr:only-child th {\n",
       "        text-align: right;\n",
       "    }\n",
       "\n",
       "    .dataframe thead th {\n",
       "        text-align: left;\n",
       "    }\n",
       "\n",
       "    .dataframe tbody tr th {\n",
       "        vertical-align: top;\n",
       "    }\n",
       "</style>\n",
       "<table border=\"1\" class=\"dataframe\">\n",
       "  <thead>\n",
       "    <tr style=\"text-align: right;\">\n",
       "      <th></th>\n",
       "      <th>SetID</th>\n",
       "      <th>Number</th>\n",
       "      <th>Variant</th>\n",
       "      <th>Theme</th>\n",
       "      <th>Subtheme</th>\n",
       "      <th>Year</th>\n",
       "      <th>Name</th>\n",
       "      <th>Minifigs</th>\n",
       "      <th>Pieces</th>\n",
       "      <th>UKPrice</th>\n",
       "      <th>USPrice</th>\n",
       "      <th>CAPrice</th>\n",
       "      <th>EUPrice</th>\n",
       "      <th>ImageURL</th>\n",
       "      <th>Owned</th>\n",
       "      <th>Wanted</th>\n",
       "      <th>QtyOwned</th>\n",
       "    </tr>\n",
       "  </thead>\n",
       "  <tbody>\n",
       "    <tr>\n",
       "      <th>472</th>\n",
       "      <td>25676</td>\n",
       "      <td>30UNIQUE15</td>\n",
       "      <td>1</td>\n",
       "      <td>Star Wars</td>\n",
       "      <td>The Force Awakens</td>\n",
       "      <td>2015</td>\n",
       "      <td>Force Friday Commemorative Brick</td>\n",
       "      <td>NaN</td>\n",
       "      <td>1.0</td>\n",
       "      <td>NaN</td>\n",
       "      <td>NaN</td>\n",
       "      <td>NaN</td>\n",
       "      <td>NaN</td>\n",
       "      <td>http://images.brickset.com/sets/images/30UNIQUE15-1.jpg</td>\n",
       "      <td>No</td>\n",
       "      <td>No</td>\n",
       "      <td>0</td>\n",
       "    </tr>\n",
       "    <tr>\n",
       "      <th>471</th>\n",
       "      <td>8654</td>\n",
       "      <td>4521221</td>\n",
       "      <td>1</td>\n",
       "      <td>Star Wars</td>\n",
       "      <td>Minifig Pack</td>\n",
       "      <td>2007</td>\n",
       "      <td>Gold chrome plated C-3PO</td>\n",
       "      <td>NaN</td>\n",
       "      <td>1.0</td>\n",
       "      <td>0.0</td>\n",
       "      <td>0.00</td>\n",
       "      <td>NaN</td>\n",
       "      <td>NaN</td>\n",
       "      <td>http://images.brickset.com/sets/images/4521221-1.jpg</td>\n",
       "      <td>No</td>\n",
       "      <td>No</td>\n",
       "      <td>0</td>\n",
       "    </tr>\n",
       "    <tr>\n",
       "      <th>469</th>\n",
       "      <td>8655</td>\n",
       "      <td>COMCON005</td>\n",
       "      <td>1</td>\n",
       "      <td>Star Wars</td>\n",
       "      <td>Miscellaneous</td>\n",
       "      <td>2009</td>\n",
       "      <td>Collectable Display Set 2</td>\n",
       "      <td>3.0</td>\n",
       "      <td>2.0</td>\n",
       "      <td>NaN</td>\n",
       "      <td>49.99</td>\n",
       "      <td>NaN</td>\n",
       "      <td>NaN</td>\n",
       "      <td>http://images.brickset.com/sets/images/COMCON005-1.jpg</td>\n",
       "      <td>No</td>\n",
       "      <td>No</td>\n",
       "      <td>0</td>\n",
       "    </tr>\n",
       "    <tr>\n",
       "      <th>470</th>\n",
       "      <td>9327</td>\n",
       "      <td>SW117PROMO</td>\n",
       "      <td>1</td>\n",
       "      <td>Star Wars</td>\n",
       "      <td>Promotional</td>\n",
       "      <td>2005</td>\n",
       "      <td>Darth Vader (Nürnberg Toy Fair 2005 Exclusive Figure)</td>\n",
       "      <td>1.0</td>\n",
       "      <td>2.0</td>\n",
       "      <td>NaN</td>\n",
       "      <td>NaN</td>\n",
       "      <td>NaN</td>\n",
       "      <td>NaN</td>\n",
       "      <td>http://images.brickset.com/sets/images/SW117PROMO-1.jpg</td>\n",
       "      <td>No</td>\n",
       "      <td>No</td>\n",
       "      <td>0</td>\n",
       "    </tr>\n",
       "    <tr>\n",
       "      <th>467</th>\n",
       "      <td>9349</td>\n",
       "      <td>COMCON011</td>\n",
       "      <td>1</td>\n",
       "      <td>Star Wars</td>\n",
       "      <td>Miscellaneous</td>\n",
       "      <td>2009</td>\n",
       "      <td>Holo-Brick Archives (SDCC 2009 exclusive)</td>\n",
       "      <td>NaN</td>\n",
       "      <td>3.0</td>\n",
       "      <td>NaN</td>\n",
       "      <td>NaN</td>\n",
       "      <td>NaN</td>\n",
       "      <td>NaN</td>\n",
       "      <td>NaN</td>\n",
       "      <td>No</td>\n",
       "      <td>No</td>\n",
       "      <td>0</td>\n",
       "    </tr>\n",
       "  </tbody>\n",
       "</table>\n",
       "</div>"
      ],
      "text/plain": [
       "     SetID      Number  Variant      Theme           Subtheme  Year  \\\n",
       "472  25676  30UNIQUE15        1  Star Wars  The Force Awakens  2015   \n",
       "471   8654     4521221        1  Star Wars       Minifig Pack  2007   \n",
       "469   8655   COMCON005        1  Star Wars      Miscellaneous  2009   \n",
       "470   9327  SW117PROMO        1  Star Wars        Promotional  2005   \n",
       "467   9349   COMCON011        1  Star Wars      Miscellaneous  2009   \n",
       "\n",
       "                                                      Name  Minifigs  Pieces  \\\n",
       "472                       Force Friday Commemorative Brick       NaN     1.0   \n",
       "471                               Gold chrome plated C-3PO       NaN     1.0   \n",
       "469                              Collectable Display Set 2       3.0     2.0   \n",
       "470  Darth Vader (Nürnberg Toy Fair 2005 Exclusive Figure)       1.0     2.0   \n",
       "467              Holo-Brick Archives (SDCC 2009 exclusive)       NaN     3.0   \n",
       "\n",
       "     UKPrice  USPrice  CAPrice  EUPrice  \\\n",
       "472      NaN      NaN      NaN      NaN   \n",
       "471      0.0     0.00      NaN      NaN   \n",
       "469      NaN    49.99      NaN      NaN   \n",
       "470      NaN      NaN      NaN      NaN   \n",
       "467      NaN      NaN      NaN      NaN   \n",
       "\n",
       "                                                    ImageURL Owned Wanted  \\\n",
       "472  http://images.brickset.com/sets/images/30UNIQUE15-1.jpg    No     No   \n",
       "471     http://images.brickset.com/sets/images/4521221-1.jpg    No     No   \n",
       "469   http://images.brickset.com/sets/images/COMCON005-1.jpg    No     No   \n",
       "470  http://images.brickset.com/sets/images/SW117PROMO-1.jpg    No     No   \n",
       "467                                                      NaN    No     No   \n",
       "\n",
       "     QtyOwned  \n",
       "472         0  \n",
       "471         0  \n",
       "469         0  \n",
       "470         0  \n",
       "467         0  "
      ]
     },
     "execution_count": 39,
     "metadata": {},
     "output_type": "execute_result"
    }
   ],
   "source": [
    "dane_star.sort_values('Pieces',ascending=True).head()"
   ]
  },
  {
   "cell_type": "code",
   "execution_count": 14,
   "metadata": {},
   "outputs": [
    {
     "data": {
      "text/html": [
       "<div>\n",
       "<style>\n",
       "    .dataframe thead tr:only-child th {\n",
       "        text-align: right;\n",
       "    }\n",
       "\n",
       "    .dataframe thead th {\n",
       "        text-align: left;\n",
       "    }\n",
       "\n",
       "    .dataframe tbody tr th {\n",
       "        vertical-align: top;\n",
       "    }\n",
       "</style>\n",
       "<table border=\"1\" class=\"dataframe\">\n",
       "  <thead>\n",
       "    <tr style=\"text-align: right;\">\n",
       "      <th></th>\n",
       "      <th>SetID</th>\n",
       "      <th>Number</th>\n",
       "      <th>Variant</th>\n",
       "      <th>Theme</th>\n",
       "      <th>Subtheme</th>\n",
       "      <th>Year</th>\n",
       "      <th>Name</th>\n",
       "      <th>Minifigs</th>\n",
       "      <th>Pieces</th>\n",
       "      <th>UKPrice</th>\n",
       "      <th>USPrice</th>\n",
       "      <th>CAPrice</th>\n",
       "      <th>EUPrice</th>\n",
       "      <th>ImageURL</th>\n",
       "      <th>Owned</th>\n",
       "      <th>Wanted</th>\n",
       "      <th>QtyOwned</th>\n",
       "    </tr>\n",
       "  </thead>\n",
       "  <tbody>\n",
       "    <tr>\n",
       "      <th>1</th>\n",
       "      <td>6522</td>\n",
       "      <td>10188</td>\n",
       "      <td>1</td>\n",
       "      <td>Star Wars</td>\n",
       "      <td>Ultimate Collector Series</td>\n",
       "      <td>2008</td>\n",
       "      <td>Death Star</td>\n",
       "      <td>24.0</td>\n",
       "      <td>3803.0</td>\n",
       "      <td>274.99</td>\n",
       "      <td>399.99</td>\n",
       "      <td>499.99</td>\n",
       "      <td>419.99</td>\n",
       "      <td>http://images.brickset.com/sets/images/10188-1.jpg</td>\n",
       "      <td>No</td>\n",
       "      <td>No</td>\n",
       "      <td>0</td>\n",
       "    </tr>\n",
       "    <tr>\n",
       "      <th>23</th>\n",
       "      <td>5610</td>\n",
       "      <td>7662</td>\n",
       "      <td>1</td>\n",
       "      <td>Star Wars</td>\n",
       "      <td>Episode I</td>\n",
       "      <td>2007</td>\n",
       "      <td>Trade Federation MTT</td>\n",
       "      <td>21.0</td>\n",
       "      <td>1330.0</td>\n",
       "      <td>78.29</td>\n",
       "      <td>99.99</td>\n",
       "      <td>NaN</td>\n",
       "      <td>NaN</td>\n",
       "      <td>http://images.brickset.com/sets/images/7662-1.jpg</td>\n",
       "      <td>No</td>\n",
       "      <td>No</td>\n",
       "      <td>0</td>\n",
       "    </tr>\n",
       "  </tbody>\n",
       "</table>\n",
       "</div>"
      ],
      "text/plain": [
       "    SetID Number  Variant      Theme                   Subtheme  Year  \\\n",
       "1    6522  10188        1  Star Wars  Ultimate Collector Series  2008   \n",
       "23   5610   7662        1  Star Wars                  Episode I  2007   \n",
       "\n",
       "                    Name  Minifigs  Pieces  UKPrice  USPrice  CAPrice  \\\n",
       "1             Death Star      24.0  3803.0   274.99   399.99   499.99   \n",
       "23  Trade Federation MTT      21.0  1330.0    78.29    99.99      NaN   \n",
       "\n",
       "    EUPrice                                            ImageURL Owned Wanted  \\\n",
       "1    419.99  http://images.brickset.com/sets/images/10188-1.jpg    No     No   \n",
       "23      NaN   http://images.brickset.com/sets/images/7662-1.jpg    No     No   \n",
       "\n",
       "    QtyOwned  \n",
       "1          0  \n",
       "23         0  "
      ]
     },
     "execution_count": 14,
     "metadata": {},
     "output_type": "execute_result"
    }
   ],
   "source": [
    "dane_star.loc[dane_star.Minifigs>20,:]\n"
   ]
  },
  {
   "cell_type": "code",
   "execution_count": 55,
   "metadata": {},
   "outputs": [],
   "source": [
    "def get_link(setid):\n",
    "    link = dane_star.loc[dane_star.SetID==setid,'ImageURL'].reset_index(drop=True)[0]\n",
    "    return link\n",
    "    #Image(url=link[0])\n"
   ]
  },
  {
   "cell_type": "code",
   "execution_count": 65,
   "metadata": {},
   "outputs": [
    {
     "data": {
      "text/html": [
       "<img src=\"http://images.brickset.com/sets/images/10179-1.jpg\"/>"
      ],
      "text/plain": [
       "<IPython.core.display.Image object>"
      ]
     },
     "execution_count": 65,
     "metadata": {},
     "output_type": "execute_result"
    }
   ],
   "source": [
    "Image(url=get_link(5860))"
   ]
  },
  {
   "cell_type": "code",
   "execution_count": 64,
   "metadata": {},
   "outputs": [
    {
     "data": {
      "text/plain": [
       "499.99000000000001"
      ]
     },
     "execution_count": 64,
     "metadata": {},
     "output_type": "execute_result"
    }
   ],
   "source": [
    "dane_star['USPrice'].max()"
   ]
  },
  {
   "cell_type": "code",
   "execution_count": 70,
   "metadata": {},
   "outputs": [
    {
     "data": {
      "text/html": [
       "<div>\n",
       "<style>\n",
       "    .dataframe thead tr:only-child th {\n",
       "        text-align: right;\n",
       "    }\n",
       "\n",
       "    .dataframe thead th {\n",
       "        text-align: left;\n",
       "    }\n",
       "\n",
       "    .dataframe tbody tr th {\n",
       "        vertical-align: top;\n",
       "    }\n",
       "</style>\n",
       "<table border=\"1\" class=\"dataframe\">\n",
       "  <thead>\n",
       "    <tr style=\"text-align: right;\">\n",
       "      <th></th>\n",
       "      <th>SetID</th>\n",
       "      <th>Number</th>\n",
       "      <th>Variant</th>\n",
       "      <th>Theme</th>\n",
       "      <th>Subtheme</th>\n",
       "      <th>Year</th>\n",
       "      <th>Name</th>\n",
       "      <th>Minifigs</th>\n",
       "      <th>Pieces</th>\n",
       "      <th>UKPrice</th>\n",
       "      <th>USPrice</th>\n",
       "      <th>CAPrice</th>\n",
       "      <th>EUPrice</th>\n",
       "      <th>ImageURL</th>\n",
       "      <th>Owned</th>\n",
       "      <th>Wanted</th>\n",
       "      <th>QtyOwned</th>\n",
       "    </tr>\n",
       "  </thead>\n",
       "  <tbody>\n",
       "    <tr>\n",
       "      <th>0</th>\n",
       "      <td>5860</td>\n",
       "      <td>10179</td>\n",
       "      <td>1</td>\n",
       "      <td>Star Wars</td>\n",
       "      <td>Ultimate Collector Series</td>\n",
       "      <td>2007</td>\n",
       "      <td>Ultimate Collector's Millennium Falcon</td>\n",
       "      <td>5.0</td>\n",
       "      <td>5197.0</td>\n",
       "      <td>342.49</td>\n",
       "      <td>499.99</td>\n",
       "      <td>NaN</td>\n",
       "      <td>NaN</td>\n",
       "      <td>http://images.brickset.com/sets/images/10179-1.jpg</td>\n",
       "      <td>No</td>\n",
       "      <td>No</td>\n",
       "      <td>0</td>\n",
       "    </tr>\n",
       "  </tbody>\n",
       "</table>\n",
       "</div>"
      ],
      "text/plain": [
       "   SetID Number  Variant      Theme                   Subtheme  Year  \\\n",
       "0   5860  10179        1  Star Wars  Ultimate Collector Series  2007   \n",
       "\n",
       "                                     Name  Minifigs  Pieces  UKPrice  USPrice  \\\n",
       "0  Ultimate Collector's Millennium Falcon       5.0  5197.0   342.49   499.99   \n",
       "\n",
       "   CAPrice  EUPrice                                            ImageURL Owned  \\\n",
       "0      NaN      NaN  http://images.brickset.com/sets/images/10179-1.jpg    No   \n",
       "\n",
       "  Wanted  QtyOwned  \n",
       "0     No         0  "
      ]
     },
     "execution_count": 70,
     "metadata": {},
     "output_type": "execute_result"
    }
   ],
   "source": [
    "dane_star.loc[dane_star['USPrice'] == dane_star['USPrice'].max(),:]"
   ]
  },
  {
   "cell_type": "code",
   "execution_count": 73,
   "metadata": {},
   "outputs": [],
   "source": [
    "najstarsze = dane_star.loc[dane_star['Year'] == dane_star['Year'].min(),:]"
   ]
  },
  {
   "cell_type": "code",
   "execution_count": 74,
   "metadata": {},
   "outputs": [
    {
     "data": {
      "text/html": [
       "<img src=\"http://images.brickset.com/sets/images/7171-1.jpg\"/>"
      ],
      "text/plain": [
       "<IPython.core.display.Image object>"
      ]
     },
     "execution_count": 74,
     "metadata": {},
     "output_type": "execute_result"
    }
   ],
   "source": [
    "Image(url=get_link(3826))"
   ]
  },
  {
   "cell_type": "code",
   "execution_count": 79,
   "metadata": {},
   "outputs": [
    {
     "data": {
      "text/html": [
       "<img src=\"http://images.brickset.com/sets/images/7171-1.jpg\"/>"
      ],
      "text/plain": [
       "<IPython.core.display.Image object>"
      ]
     },
     "metadata": {},
     "output_type": "display_data"
    },
    {
     "data": {
      "text/html": [
       "<img src=\"http://images.brickset.com/sets/images/7150-1.jpg\"/>"
      ],
      "text/plain": [
       "<IPython.core.display.Image object>"
      ]
     },
     "metadata": {},
     "output_type": "display_data"
    },
    {
     "data": {
      "text/html": [
       "<img src=\"http://images.brickset.com/sets/images/7161-1.jpg\"/>"
      ],
      "text/plain": [
       "<IPython.core.display.Image object>"
      ]
     },
     "metadata": {},
     "output_type": "display_data"
    },
    {
     "data": {
      "text/html": [
       "<img src=\"http://images.brickset.com/sets/images/7140-1.jpg\"/>"
      ],
      "text/plain": [
       "<IPython.core.display.Image object>"
      ]
     },
     "metadata": {},
     "output_type": "display_data"
    },
    {
     "data": {
      "text/html": [
       "<img src=\"http://images.brickset.com/sets/images/7151-1.jpg\"/>"
      ],
      "text/plain": [
       "<IPython.core.display.Image object>"
      ]
     },
     "metadata": {},
     "output_type": "display_data"
    },
    {
     "data": {
      "text/html": [
       "<img src=\"http://images.brickset.com/sets/images/7130-1.jpg\"/>"
      ],
      "text/plain": [
       "<IPython.core.display.Image object>"
      ]
     },
     "metadata": {},
     "output_type": "display_data"
    },
    {
     "data": {
      "text/html": [
       "<img src=\"http://images.brickset.com/sets/images/7141-1.jpg\"/>"
      ],
      "text/plain": [
       "<IPython.core.display.Image object>"
      ]
     },
     "metadata": {},
     "output_type": "display_data"
    },
    {
     "data": {
      "text/html": [
       "<img src=\"http://images.brickset.com/sets/images/7131-1.jpg\"/>"
      ],
      "text/plain": [
       "<IPython.core.display.Image object>"
      ]
     },
     "metadata": {},
     "output_type": "display_data"
    },
    {
     "data": {
      "text/html": [
       "<img src=\"http://images.brickset.com/sets/images/7128-1.jpg\"/>"
      ],
      "text/plain": [
       "<IPython.core.display.Image object>"
      ]
     },
     "metadata": {},
     "output_type": "display_data"
    },
    {
     "data": {
      "text/html": [
       "<img src=\"http://images.brickset.com/sets/images/7121-1.jpg\"/>"
      ],
      "text/plain": [
       "<IPython.core.display.Image object>"
      ]
     },
     "metadata": {},
     "output_type": "display_data"
    },
    {
     "data": {
      "text/html": [
       "<img src=\"http://images.brickset.com/sets/images/7111-1.jpg\"/>"
      ],
      "text/plain": [
       "<IPython.core.display.Image object>"
      ]
     },
     "metadata": {},
     "output_type": "display_data"
    },
    {
     "data": {
      "text/html": [
       "<img src=\"http://images.brickset.com/sets/images/7101-1.jpg\"/>"
      ],
      "text/plain": [
       "<IPython.core.display.Image object>"
      ]
     },
     "metadata": {},
     "output_type": "display_data"
    },
    {
     "data": {
      "text/html": [
       "<img src=\"http://images.brickset.com/sets/images/7110-1.jpg\"/>"
      ],
      "text/plain": [
       "<IPython.core.display.Image object>"
      ]
     },
     "metadata": {},
     "output_type": "display_data"
    }
   ],
   "source": [
    "for ii, row in najstarsze.iterrows():\n",
    "    display(Image(url=get_link(row.SetID)))"
   ]
  },
  {
   "cell_type": "code",
   "execution_count": 80,
   "metadata": {
    "collapsed": true
   },
   "outputs": [],
   "source": [
    "najmlodsze = dane_star.loc[dane_star['Year'] == dane_star['Year'].max(),:]"
   ]
  },
  {
   "cell_type": "code",
   "execution_count": 85,
   "metadata": {},
   "outputs": [
    {
     "data": {
      "text/html": [
       "<img src=\"http://images.brickset.com/sets/images/75140-1.jpg\"/>"
      ],
      "text/plain": [
       "<IPython.core.display.Image object>"
      ]
     },
     "metadata": {},
     "output_type": "display_data"
    },
    {
     "data": {
      "text/html": [
       "<img src=\"http://images.brickset.com/sets/images/75139-1.jpg\"/>"
      ],
      "text/plain": [
       "<IPython.core.display.Image object>"
      ]
     },
     "metadata": {},
     "output_type": "display_data"
    },
    {
     "data": {
      "text/html": [
       "<img src=\"http://images.brickset.com/sets/images/75115-1.jpg\"/>"
      ],
      "text/plain": [
       "<IPython.core.display.Image object>"
      ]
     },
     "metadata": {},
     "output_type": "display_data"
    },
    {
     "data": {
      "text/html": [
       "<img src=\"http://images.brickset.com/sets/images/75116-1.jpg\"/>"
      ],
      "text/plain": [
       "<IPython.core.display.Image object>"
      ]
     },
     "metadata": {},
     "output_type": "display_data"
    },
    {
     "data": {
      "text/html": [
       "<img src=\"http://images.brickset.com/sets/images/75117-1.jpg\"/>"
      ],
      "text/plain": [
       "<IPython.core.display.Image object>"
      ]
     },
     "metadata": {},
     "output_type": "display_data"
    },
    {
     "data": {
      "text/html": [
       "<img src=\"http://images.brickset.com/sets/images/75113-1.jpg\"/>"
      ],
      "text/plain": [
       "<IPython.core.display.Image object>"
      ]
     },
     "metadata": {},
     "output_type": "display_data"
    },
    {
     "data": {
      "text/html": [
       "<img src=\"http://images.brickset.com/sets/images/75118-1.jpg\"/>"
      ],
      "text/plain": [
       "<IPython.core.display.Image object>"
      ]
     },
     "metadata": {},
     "output_type": "display_data"
    },
    {
     "data": {
      "text/html": [
       "<img src=\"http://images.brickset.com/sets/images/75114-1.jpg\"/>"
      ],
      "text/plain": [
       "<IPython.core.display.Image object>"
      ]
     },
     "metadata": {},
     "output_type": "display_data"
    },
    {
     "data": {
      "text/html": [
       "<img src=\"http://images.brickset.com/sets/images/30278-1.jpg\"/>"
      ],
      "text/plain": [
       "<IPython.core.display.Image object>"
      ]
     },
     "metadata": {},
     "output_type": "display_data"
    },
    {
     "data": {
      "text/html": [
       "<img src=\"http://images.brickset.com/sets/images/30605-1.jpg\"/>"
      ],
      "text/plain": [
       "<IPython.core.display.Image object>"
      ]
     },
     "metadata": {},
     "output_type": "display_data"
    },
    {
     "ename": "AttributeError",
     "evalue": "'float' object has no attribute 'split'",
     "output_type": "error",
     "traceback": [
      "\u001b[0;31m---------------------------------------------------------------------------\u001b[0m",
      "\u001b[0;31mAttributeError\u001b[0m                            Traceback (most recent call last)",
      "\u001b[0;32m<ipython-input-85-4b45ead4d515>\u001b[0m in \u001b[0;36m<module>\u001b[0;34m()\u001b[0m\n\u001b[1;32m      1\u001b[0m \u001b[0;32mfor\u001b[0m \u001b[0mii\u001b[0m\u001b[0;34m,\u001b[0m \u001b[0mrow\u001b[0m \u001b[0;32min\u001b[0m \u001b[0mnajmlodsze\u001b[0m\u001b[0;34m.\u001b[0m\u001b[0miterrows\u001b[0m\u001b[0;34m(\u001b[0m\u001b[0;34m)\u001b[0m\u001b[0;34m:\u001b[0m\u001b[0;34m\u001b[0m\u001b[0m\n\u001b[1;32m      2\u001b[0m     \u001b[0;32mtry\u001b[0m\u001b[0;34m:\u001b[0m\u001b[0;34m\u001b[0m\u001b[0m\n\u001b[0;32m----> 3\u001b[0;31m         \u001b[0mdisplay\u001b[0m\u001b[0;34m(\u001b[0m\u001b[0mImage\u001b[0m\u001b[0;34m(\u001b[0m\u001b[0murl\u001b[0m\u001b[0;34m=\u001b[0m\u001b[0mget_link\u001b[0m\u001b[0;34m(\u001b[0m\u001b[0mrow\u001b[0m\u001b[0;34m.\u001b[0m\u001b[0mSetID\u001b[0m\u001b[0;34m)\u001b[0m\u001b[0;34m)\u001b[0m\u001b[0;34m)\u001b[0m\u001b[0;34m\u001b[0m\u001b[0m\n\u001b[0m\u001b[1;32m      4\u001b[0m     \u001b[0;32mexcept\u001b[0m \u001b[0mValueError\u001b[0m\u001b[0;34m:\u001b[0m\u001b[0;34m\u001b[0m\u001b[0m\n\u001b[1;32m      5\u001b[0m          \u001b[0mprint\u001b[0m\u001b[0;34m(\u001b[0m\u001b[0;34m\"Oops!  \"\u001b[0m\u001b[0;34m)\u001b[0m\u001b[0;34m\u001b[0m\u001b[0m\n",
      "\u001b[0;32m/home/stanislaw/anaconda3/lib/python3.6/site-packages/IPython/core/display.py\u001b[0m in \u001b[0;36m__init__\u001b[0;34m(self, data, url, filename, format, embed, width, height, retina, unconfined, metadata)\u001b[0m\n\u001b[1;32m    714\u001b[0m             \u001b[0mext\u001b[0m \u001b[0;34m=\u001b[0m \u001b[0mself\u001b[0m\u001b[0;34m.\u001b[0m\u001b[0m_find_ext\u001b[0m\u001b[0;34m(\u001b[0m\u001b[0mfilename\u001b[0m\u001b[0;34m)\u001b[0m\u001b[0;34m\u001b[0m\u001b[0m\n\u001b[1;32m    715\u001b[0m         \u001b[0;32melif\u001b[0m \u001b[0murl\u001b[0m \u001b[0;32mis\u001b[0m \u001b[0;32mnot\u001b[0m \u001b[0;32mNone\u001b[0m\u001b[0;34m:\u001b[0m\u001b[0;34m\u001b[0m\u001b[0m\n\u001b[0;32m--> 716\u001b[0;31m             \u001b[0mext\u001b[0m \u001b[0;34m=\u001b[0m \u001b[0mself\u001b[0m\u001b[0;34m.\u001b[0m\u001b[0m_find_ext\u001b[0m\u001b[0;34m(\u001b[0m\u001b[0murl\u001b[0m\u001b[0;34m)\u001b[0m\u001b[0;34m\u001b[0m\u001b[0m\n\u001b[0m\u001b[1;32m    717\u001b[0m         \u001b[0;32melif\u001b[0m \u001b[0mdata\u001b[0m \u001b[0;32mis\u001b[0m \u001b[0;32mNone\u001b[0m\u001b[0;34m:\u001b[0m\u001b[0;34m\u001b[0m\u001b[0m\n\u001b[1;32m    718\u001b[0m             \u001b[0;32mraise\u001b[0m \u001b[0mValueError\u001b[0m\u001b[0;34m(\u001b[0m\u001b[0;34m\"No image data found. Expecting filename, url, or data.\"\u001b[0m\u001b[0;34m)\u001b[0m\u001b[0;34m\u001b[0m\u001b[0m\n",
      "\u001b[0;32m/home/stanislaw/anaconda3/lib/python3.6/site-packages/IPython/core/display.py\u001b[0m in \u001b[0;36m_find_ext\u001b[0;34m(self, s)\u001b[0m\n\u001b[1;32m    823\u001b[0m \u001b[0;34m\u001b[0m\u001b[0m\n\u001b[1;32m    824\u001b[0m     \u001b[0;32mdef\u001b[0m \u001b[0m_find_ext\u001b[0m\u001b[0;34m(\u001b[0m\u001b[0mself\u001b[0m\u001b[0;34m,\u001b[0m \u001b[0ms\u001b[0m\u001b[0;34m)\u001b[0m\u001b[0;34m:\u001b[0m\u001b[0;34m\u001b[0m\u001b[0m\n\u001b[0;32m--> 825\u001b[0;31m         \u001b[0;32mreturn\u001b[0m \u001b[0municode_type\u001b[0m\u001b[0;34m(\u001b[0m\u001b[0ms\u001b[0m\u001b[0;34m.\u001b[0m\u001b[0msplit\u001b[0m\u001b[0;34m(\u001b[0m\u001b[0;34m'.'\u001b[0m\u001b[0;34m)\u001b[0m\u001b[0;34m[\u001b[0m\u001b[0;34m-\u001b[0m\u001b[0;36m1\u001b[0m\u001b[0;34m]\u001b[0m\u001b[0;34m.\u001b[0m\u001b[0mlower\u001b[0m\u001b[0;34m(\u001b[0m\u001b[0;34m)\u001b[0m\u001b[0;34m)\u001b[0m\u001b[0;34m\u001b[0m\u001b[0m\n\u001b[0m\u001b[1;32m    826\u001b[0m \u001b[0;34m\u001b[0m\u001b[0m\n\u001b[1;32m    827\u001b[0m \u001b[0;32mclass\u001b[0m \u001b[0mVideo\u001b[0m\u001b[0;34m(\u001b[0m\u001b[0mDisplayObject\u001b[0m\u001b[0;34m)\u001b[0m\u001b[0;34m:\u001b[0m\u001b[0;34m\u001b[0m\u001b[0m\n",
      "\u001b[0;31mAttributeError\u001b[0m: 'float' object has no attribute 'split'"
     ]
    }
   ],
   "source": [
    "for ii, row in najmlodsze.iterrows():\n",
    "    try:\n",
    "        display(Image(url=get_link(row.SetID)))\n",
    "    except ValueError:\n",
    "         print(\"Oops!  \")\n"
   ]
  },
  {
   "cell_type": "code",
   "execution_count": 87,
   "metadata": {},
   "outputs": [
    {
     "data": {
      "text/html": [
       "<div>\n",
       "<style>\n",
       "    .dataframe thead tr:only-child th {\n",
       "        text-align: right;\n",
       "    }\n",
       "\n",
       "    .dataframe thead th {\n",
       "        text-align: left;\n",
       "    }\n",
       "\n",
       "    .dataframe tbody tr th {\n",
       "        vertical-align: top;\n",
       "    }\n",
       "</style>\n",
       "<table border=\"1\" class=\"dataframe\">\n",
       "  <thead>\n",
       "    <tr style=\"text-align: right;\">\n",
       "      <th></th>\n",
       "      <th>SetID</th>\n",
       "      <th>Number</th>\n",
       "      <th>Variant</th>\n",
       "      <th>Theme</th>\n",
       "      <th>Subtheme</th>\n",
       "      <th>Year</th>\n",
       "      <th>Name</th>\n",
       "      <th>Minifigs</th>\n",
       "      <th>Pieces</th>\n",
       "      <th>UKPrice</th>\n",
       "      <th>USPrice</th>\n",
       "      <th>CAPrice</th>\n",
       "      <th>EUPrice</th>\n",
       "      <th>ImageURL</th>\n",
       "      <th>Owned</th>\n",
       "      <th>Wanted</th>\n",
       "      <th>QtyOwned</th>\n",
       "    </tr>\n",
       "  </thead>\n",
       "  <tbody>\n",
       "    <tr>\n",
       "      <th>83</th>\n",
       "      <td>24798</td>\n",
       "      <td>75140</td>\n",
       "      <td>1</td>\n",
       "      <td>Star Wars</td>\n",
       "      <td>The Force Awakens</td>\n",
       "      <td>2016</td>\n",
       "      <td>Resistance Troop Transporter</td>\n",
       "      <td>NaN</td>\n",
       "      <td>646.0</td>\n",
       "      <td>NaN</td>\n",
       "      <td>NaN</td>\n",
       "      <td>NaN</td>\n",
       "      <td>69.99</td>\n",
       "      <td>http://images.brickset.com/sets/images/75140-1.jpg</td>\n",
       "      <td>No</td>\n",
       "      <td>No</td>\n",
       "      <td>0</td>\n",
       "    </tr>\n",
       "    <tr>\n",
       "      <th>140</th>\n",
       "      <td>24959</td>\n",
       "      <td>75139</td>\n",
       "      <td>1</td>\n",
       "      <td>Star Wars</td>\n",
       "      <td>The Force Awakens</td>\n",
       "      <td>2016</td>\n",
       "      <td>Battle on Takodana</td>\n",
       "      <td>NaN</td>\n",
       "      <td>409.0</td>\n",
       "      <td>NaN</td>\n",
       "      <td>NaN</td>\n",
       "      <td>NaN</td>\n",
       "      <td>59.99</td>\n",
       "      <td>http://images.brickset.com/sets/images/75139-1.jpg</td>\n",
       "      <td>No</td>\n",
       "      <td>No</td>\n",
       "      <td>0</td>\n",
       "    </tr>\n",
       "    <tr>\n",
       "      <th>309</th>\n",
       "      <td>24780</td>\n",
       "      <td>75115</td>\n",
       "      <td>1</td>\n",
       "      <td>Star Wars</td>\n",
       "      <td>Buildable Figures</td>\n",
       "      <td>2016</td>\n",
       "      <td>Poe Dameron</td>\n",
       "      <td>NaN</td>\n",
       "      <td>102.0</td>\n",
       "      <td>NaN</td>\n",
       "      <td>19.99</td>\n",
       "      <td>NaN</td>\n",
       "      <td>NaN</td>\n",
       "      <td>http://images.brickset.com/sets/images/75115-1.jpg</td>\n",
       "      <td>No</td>\n",
       "      <td>No</td>\n",
       "      <td>0</td>\n",
       "    </tr>\n",
       "    <tr>\n",
       "      <th>317</th>\n",
       "      <td>24781</td>\n",
       "      <td>75116</td>\n",
       "      <td>1</td>\n",
       "      <td>Star Wars</td>\n",
       "      <td>Buildable Figures</td>\n",
       "      <td>2016</td>\n",
       "      <td>Finn</td>\n",
       "      <td>NaN</td>\n",
       "      <td>98.0</td>\n",
       "      <td>NaN</td>\n",
       "      <td>NaN</td>\n",
       "      <td>NaN</td>\n",
       "      <td>NaN</td>\n",
       "      <td>http://images.brickset.com/sets/images/75116-1.jpg</td>\n",
       "      <td>No</td>\n",
       "      <td>No</td>\n",
       "      <td>0</td>\n",
       "    </tr>\n",
       "    <tr>\n",
       "      <th>335</th>\n",
       "      <td>24782</td>\n",
       "      <td>75117</td>\n",
       "      <td>1</td>\n",
       "      <td>Star Wars</td>\n",
       "      <td>Buildable Figures</td>\n",
       "      <td>2016</td>\n",
       "      <td>Kylo Ren</td>\n",
       "      <td>NaN</td>\n",
       "      <td>86.0</td>\n",
       "      <td>NaN</td>\n",
       "      <td>24.99</td>\n",
       "      <td>NaN</td>\n",
       "      <td>NaN</td>\n",
       "      <td>http://images.brickset.com/sets/images/75117-1.jpg</td>\n",
       "      <td>No</td>\n",
       "      <td>No</td>\n",
       "      <td>0</td>\n",
       "    </tr>\n",
       "    <tr>\n",
       "      <th>339</th>\n",
       "      <td>24778</td>\n",
       "      <td>75113</td>\n",
       "      <td>1</td>\n",
       "      <td>Star Wars</td>\n",
       "      <td>Buildable Figures</td>\n",
       "      <td>2016</td>\n",
       "      <td>Rey</td>\n",
       "      <td>NaN</td>\n",
       "      <td>84.0</td>\n",
       "      <td>NaN</td>\n",
       "      <td>19.99</td>\n",
       "      <td>NaN</td>\n",
       "      <td>NaN</td>\n",
       "      <td>http://images.brickset.com/sets/images/75113-1.jpg</td>\n",
       "      <td>No</td>\n",
       "      <td>No</td>\n",
       "      <td>0</td>\n",
       "    </tr>\n",
       "  </tbody>\n",
       "</table>\n",
       "</div>"
      ],
      "text/plain": [
       "     SetID Number  Variant      Theme           Subtheme  Year  \\\n",
       "83   24798  75140        1  Star Wars  The Force Awakens  2016   \n",
       "140  24959  75139        1  Star Wars  The Force Awakens  2016   \n",
       "309  24780  75115        1  Star Wars  Buildable Figures  2016   \n",
       "317  24781  75116        1  Star Wars  Buildable Figures  2016   \n",
       "335  24782  75117        1  Star Wars  Buildable Figures  2016   \n",
       "339  24778  75113        1  Star Wars  Buildable Figures  2016   \n",
       "\n",
       "                             Name  Minifigs  Pieces  UKPrice  USPrice  \\\n",
       "83   Resistance Troop Transporter       NaN   646.0      NaN      NaN   \n",
       "140            Battle on Takodana       NaN   409.0      NaN      NaN   \n",
       "309                   Poe Dameron       NaN   102.0      NaN    19.99   \n",
       "317                          Finn       NaN    98.0      NaN      NaN   \n",
       "335                      Kylo Ren       NaN    86.0      NaN    24.99   \n",
       "339                           Rey       NaN    84.0      NaN    19.99   \n",
       "\n",
       "     CAPrice  EUPrice                                            ImageURL  \\\n",
       "83       NaN    69.99  http://images.brickset.com/sets/images/75140-1.jpg   \n",
       "140      NaN    59.99  http://images.brickset.com/sets/images/75139-1.jpg   \n",
       "309      NaN      NaN  http://images.brickset.com/sets/images/75115-1.jpg   \n",
       "317      NaN      NaN  http://images.brickset.com/sets/images/75116-1.jpg   \n",
       "335      NaN      NaN  http://images.brickset.com/sets/images/75117-1.jpg   \n",
       "339      NaN      NaN  http://images.brickset.com/sets/images/75113-1.jpg   \n",
       "\n",
       "    Owned Wanted  QtyOwned  \n",
       "83     No     No         0  \n",
       "140    No     No         0  \n",
       "309    No     No         0  \n",
       "317    No     No         0  \n",
       "335    No     No         0  \n",
       "339    No     No         0  "
      ]
     },
     "execution_count": 87,
     "metadata": {},
     "output_type": "execute_result"
    }
   ],
   "source": [
    "najmlodsze.head(6)"
   ]
  },
  {
   "cell_type": "code",
   "execution_count": 89,
   "metadata": {},
   "outputs": [
    {
     "data": {
      "text/html": [
       "<div>\n",
       "<style>\n",
       "    .dataframe thead tr:only-child th {\n",
       "        text-align: right;\n",
       "    }\n",
       "\n",
       "    .dataframe thead th {\n",
       "        text-align: left;\n",
       "    }\n",
       "\n",
       "    .dataframe tbody tr th {\n",
       "        vertical-align: top;\n",
       "    }\n",
       "</style>\n",
       "<table border=\"1\" class=\"dataframe\">\n",
       "  <thead>\n",
       "    <tr style=\"text-align: right;\">\n",
       "      <th></th>\n",
       "      <th>SetID</th>\n",
       "      <th>Number</th>\n",
       "      <th>Variant</th>\n",
       "      <th>Theme</th>\n",
       "      <th>Subtheme</th>\n",
       "      <th>Year</th>\n",
       "      <th>Name</th>\n",
       "      <th>Minifigs</th>\n",
       "      <th>Pieces</th>\n",
       "      <th>UKPrice</th>\n",
       "      <th>USPrice</th>\n",
       "      <th>CAPrice</th>\n",
       "      <th>EUPrice</th>\n",
       "      <th>ImageURL</th>\n",
       "      <th>Owned</th>\n",
       "      <th>Wanted</th>\n",
       "      <th>QtyOwned</th>\n",
       "    </tr>\n",
       "  </thead>\n",
       "  <tbody>\n",
       "    <tr>\n",
       "      <th>1</th>\n",
       "      <td>6522</td>\n",
       "      <td>10188</td>\n",
       "      <td>1</td>\n",
       "      <td>Star Wars</td>\n",
       "      <td>Ultimate Collector Series</td>\n",
       "      <td>2008</td>\n",
       "      <td>Death Star</td>\n",
       "      <td>24.0</td>\n",
       "      <td>3803.0</td>\n",
       "      <td>274.99</td>\n",
       "      <td>399.99</td>\n",
       "      <td>499.99</td>\n",
       "      <td>419.99</td>\n",
       "      <td>http://images.brickset.com/sets/images/10188-1.jpg</td>\n",
       "      <td>No</td>\n",
       "      <td>No</td>\n",
       "      <td>0</td>\n",
       "    </tr>\n",
       "  </tbody>\n",
       "</table>\n",
       "</div>"
      ],
      "text/plain": [
       "   SetID Number  Variant      Theme                   Subtheme  Year  \\\n",
       "1   6522  10188        1  Star Wars  Ultimate Collector Series  2008   \n",
       "\n",
       "         Name  Minifigs  Pieces  UKPrice  USPrice  CAPrice  EUPrice  \\\n",
       "1  Death Star      24.0  3803.0   274.99   399.99   499.99   419.99   \n",
       "\n",
       "                                             ImageURL Owned Wanted  QtyOwned  \n",
       "1  http://images.brickset.com/sets/images/10188-1.jpg    No     No         0  "
      ]
     },
     "execution_count": 89,
     "metadata": {},
     "output_type": "execute_result"
    }
   ],
   "source": [
    "najdrozszeEU = dane_star.loc[dane_star['EUPrice'] == dane_star['EUPrice'].max(),:]\n",
    "najdrozszeEU"
   ]
  },
  {
   "cell_type": "code",
   "execution_count": 94,
   "metadata": {},
   "outputs": [
    {
     "data": {
      "text/html": [
       "<img src=\"http://images.brickset.com/sets/images/10179-1.jpg\"/>"
      ],
      "text/plain": [
       "<IPython.core.display.Image object>"
      ]
     },
     "execution_count": 94,
     "metadata": {},
     "output_type": "execute_result"
    }
   ],
   "source": [
    "Image(url=get_link(5860))"
   ]
  },
  {
   "cell_type": "code",
   "execution_count": 93,
   "metadata": {},
   "outputs": [
    {
     "data": {
      "text/html": [
       "<div>\n",
       "<style>\n",
       "    .dataframe thead tr:only-child th {\n",
       "        text-align: right;\n",
       "    }\n",
       "\n",
       "    .dataframe thead th {\n",
       "        text-align: left;\n",
       "    }\n",
       "\n",
       "    .dataframe tbody tr th {\n",
       "        vertical-align: top;\n",
       "    }\n",
       "</style>\n",
       "<table border=\"1\" class=\"dataframe\">\n",
       "  <thead>\n",
       "    <tr style=\"text-align: right;\">\n",
       "      <th></th>\n",
       "      <th>SetID</th>\n",
       "      <th>Number</th>\n",
       "      <th>Variant</th>\n",
       "      <th>Theme</th>\n",
       "      <th>Subtheme</th>\n",
       "      <th>Year</th>\n",
       "      <th>Name</th>\n",
       "      <th>Minifigs</th>\n",
       "      <th>Pieces</th>\n",
       "      <th>UKPrice</th>\n",
       "      <th>USPrice</th>\n",
       "      <th>CAPrice</th>\n",
       "      <th>EUPrice</th>\n",
       "      <th>ImageURL</th>\n",
       "      <th>Owned</th>\n",
       "      <th>Wanted</th>\n",
       "      <th>QtyOwned</th>\n",
       "    </tr>\n",
       "  </thead>\n",
       "  <tbody>\n",
       "    <tr>\n",
       "      <th>0</th>\n",
       "      <td>5860</td>\n",
       "      <td>10179</td>\n",
       "      <td>1</td>\n",
       "      <td>Star Wars</td>\n",
       "      <td>Ultimate Collector Series</td>\n",
       "      <td>2007</td>\n",
       "      <td>Ultimate Collector's Millennium Falcon</td>\n",
       "      <td>5.0</td>\n",
       "      <td>5197.0</td>\n",
       "      <td>342.49</td>\n",
       "      <td>499.99</td>\n",
       "      <td>NaN</td>\n",
       "      <td>NaN</td>\n",
       "      <td>http://images.brickset.com/sets/images/10179-1.jpg</td>\n",
       "      <td>No</td>\n",
       "      <td>No</td>\n",
       "      <td>0</td>\n",
       "    </tr>\n",
       "  </tbody>\n",
       "</table>\n",
       "</div>"
      ],
      "text/plain": [
       "   SetID Number  Variant      Theme                   Subtheme  Year  \\\n",
       "0   5860  10179        1  Star Wars  Ultimate Collector Series  2007   \n",
       "\n",
       "                                     Name  Minifigs  Pieces  UKPrice  USPrice  \\\n",
       "0  Ultimate Collector's Millennium Falcon       5.0  5197.0   342.49   499.99   \n",
       "\n",
       "   CAPrice  EUPrice                                            ImageURL Owned  \\\n",
       "0      NaN      NaN  http://images.brickset.com/sets/images/10179-1.jpg    No   \n",
       "\n",
       "  Wanted  QtyOwned  \n",
       "0     No         0  "
      ]
     },
     "execution_count": 93,
     "metadata": {},
     "output_type": "execute_result"
    }
   ],
   "source": [
    "najdrozszeUS = dane_star.loc[dane_star['USPrice'] == dane_star['USPrice'].max(),:]\n",
    "najdrozszeUS"
   ]
  },
  {
   "cell_type": "code",
   "execution_count": 97,
   "metadata": {},
   "outputs": [
    {
     "data": {
      "text/plain": [
       "<matplotlib.axes._subplots.AxesSubplot at 0x7f1bedd611d0>"
      ]
     },
     "execution_count": 97,
     "metadata": {},
     "output_type": "execute_result"
    },
    {
     "data": {
      "image/png": "[encoded data removed]",
      "text/plain": [
       "<matplotlib.figure.Figure at 0x7f1bedc9aac8>"
      ]
     },
     "metadata": {},
     "output_type": "display_data"
    }
   ],
   "source": [
    "dane_star['Year'].hist()"
   ]
  },
  {
   "cell_type": "code",
   "execution_count": 103,
   "metadata": {},
   "outputs": [
    {
     "data": {
      "text/plain": [
       "<matplotlib.axes._subplots.AxesSubplot at 0x7f1bedb55a58>"
      ]
     },
     "execution_count": 103,
     "metadata": {},
     "output_type": "execute_result"
    },
    {
     "data": {
      "image/png": "[encoded data removed]",
      "text/plain": [
       "<matplotlib.figure.Figure at 0x7f1bedcc9278>"
      ]
     },
     "metadata": {},
     "output_type": "display_data"
    }
   ],
   "source": [
    "sns.distplot(dane_star['Year'],bins=dane_star['Year'].drop_duplicates().sort_values(),norm_hist=False)"
   ]
  },
  {
   "cell_type": "code",
   "execution_count": 132,
   "metadata": {},
   "outputs": [],
   "source": [
    "to_plot_year = dane_star.loc[:,['Year','SetID']].groupby('Year').agg('count').reset_index()\n",
    "#to_plot_year"
   ]
  },
  {
   "cell_type": "code",
   "execution_count": 131,
   "metadata": {},
   "outputs": [
    {
     "data": {
      "text/plain": [
       "(array([ 0,  1,  2,  3,  4,  5,  6,  7,  8,  9, 10, 11, 12, 13, 14, 15, 16,\n",
       "        17]), <a list of 18 Text xticklabel objects>)"
      ]
     },
     "execution_count": 131,
     "metadata": {},
     "output_type": "execute_result"
    },
    {
     "data": {
      "image/png": "[encoded data removed]",
      "text/plain": [
       "<matplotlib.figure.Figure at 0x7f1becfbef28>"
      ]
     },
     "metadata": {},
     "output_type": "display_data"
    }
   ],
   "source": [
    "g = sns.barplot(y='SetID',x='Year',data=to_plot_year)\n",
    "plt.xticks(rotation=45)"
   ]
  },
  {
   "cell_type": "code",
   "execution_count": 134,
   "metadata": {
    "collapsed": true
   },
   "outputs": [],
   "source": [
    "stas = dane_star.loc[dane_star['Year'] == 2008,:]"
   ]
  },
  {
   "cell_type": "code",
   "execution_count": 135,
   "metadata": {},
   "outputs": [
    {
     "data": {
      "text/html": [
       "<img src=\"http://images.brickset.com/sets/images/10188-1.jpg\"/>"
      ],
      "text/plain": [
       "<IPython.core.display.Image object>"
      ]
     },
     "metadata": {},
     "output_type": "display_data"
    },
    {
     "data": {
      "text/html": [
       "<img src=\"http://images.brickset.com/sets/images/10186-1.jpg\"/>"
      ],
      "text/plain": [
       "<IPython.core.display.Image object>"
      ]
     },
     "metadata": {},
     "output_type": "display_data"
    },
    {
     "data": {
      "text/html": [
       "<img src=\"http://images.brickset.com/sets/images/7676-1.jpg\"/>"
      ],
      "text/plain": [
       "<IPython.core.display.Image object>"
      ]
     },
     "metadata": {},
     "output_type": "display_data"
    },
    {
     "data": {
      "text/html": [
       "<img src=\"http://images.brickset.com/sets/images/7680-1.jpg\"/>"
      ],
      "text/plain": [
       "<IPython.core.display.Image object>"
      ]
     },
     "metadata": {},
     "output_type": "display_data"
    },
    {
     "data": {
      "text/html": [
       "<img src=\"http://images.brickset.com/sets/images/7675-1.jpg\"/>"
      ],
      "text/plain": [
       "<IPython.core.display.Image object>"
      ]
     },
     "metadata": {},
     "output_type": "display_data"
    },
    {
     "data": {
      "text/html": [
       "<img src=\"http://images.brickset.com/sets/images/7679-1.jpg\"/>"
      ],
      "text/plain": [
       "<IPython.core.display.Image object>"
      ]
     },
     "metadata": {},
     "output_type": "display_data"
    },
    {
     "data": {
      "text/html": [
       "<img src=\"http://images.brickset.com/sets/images/7672-1.jpg\"/>"
      ],
      "text/plain": [
       "<IPython.core.display.Image object>"
      ]
     },
     "metadata": {},
     "output_type": "display_data"
    },
    {
     "data": {
      "text/html": [
       "<img src=\"http://images.brickset.com/sets/images/7674-1.jpg\"/>"
      ],
      "text/plain": [
       "<IPython.core.display.Image object>"
      ]
     },
     "metadata": {},
     "output_type": "display_data"
    },
    {
     "data": {
      "text/html": [
       "<img src=\"http://images.brickset.com/sets/images/7673-1.jpg\"/>"
      ],
      "text/plain": [
       "<IPython.core.display.Image object>"
      ]
     },
     "metadata": {},
     "output_type": "display_data"
    },
    {
     "data": {
      "text/html": [
       "<img src=\"http://images.brickset.com/sets/images/7671-1.jpg\"/>"
      ],
      "text/plain": [
       "<IPython.core.display.Image object>"
      ]
     },
     "metadata": {},
     "output_type": "display_data"
    },
    {
     "data": {
      "text/html": [
       "<img src=\"http://images.brickset.com/sets/images/COMCON001-1.jpg\"/>"
      ],
      "text/plain": [
       "<IPython.core.display.Image object>"
      ]
     },
     "metadata": {},
     "output_type": "display_data"
    },
    {
     "data": {
      "text/html": [
       "<img src=\"http://images.brickset.com/sets/images/7678-1.jpg\"/>"
      ],
      "text/plain": [
       "<IPython.core.display.Image object>"
      ]
     },
     "metadata": {},
     "output_type": "display_data"
    },
    {
     "data": {
      "text/html": [
       "<img src=\"http://images.brickset.com/sets/images/7670-1.jpg\"/>"
      ],
      "text/plain": [
       "<IPython.core.display.Image object>"
      ]
     },
     "metadata": {},
     "output_type": "display_data"
    },
    {
     "data": {
      "text/html": [
       "<img src=\"http://images.brickset.com/sets/images/7681-1.jpg\"/>"
      ],
      "text/plain": [
       "<IPython.core.display.Image object>"
      ]
     },
     "metadata": {},
     "output_type": "display_data"
    },
    {
     "data": {
      "text/html": [
       "<img src=\"http://images.brickset.com/sets/images/7669-1.jpg\"/>"
      ],
      "text/plain": [
       "<IPython.core.display.Image object>"
      ]
     },
     "metadata": {},
     "output_type": "display_data"
    },
    {
     "data": {
      "text/html": [
       "<img src=\"http://images.brickset.com/sets/images/7668-1.jpg\"/>"
      ],
      "text/plain": [
       "<IPython.core.display.Image object>"
      ]
     },
     "metadata": {},
     "output_type": "display_data"
    },
    {
     "data": {
      "text/html": [
       "<img src=\"http://images.brickset.com/sets/images/7667-1.jpg\"/>"
      ],
      "text/plain": [
       "<IPython.core.display.Image object>"
      ]
     },
     "metadata": {},
     "output_type": "display_data"
    },
    {
     "data": {
      "text/html": [
       "<img src=\"http://images.brickset.com/sets/images/8029-1.jpg\"/>"
      ],
      "text/plain": [
       "<IPython.core.display.Image object>"
      ]
     },
     "metadata": {},
     "output_type": "display_data"
    },
    {
     "data": {
      "text/html": [
       "<img src=\"http://images.brickset.com/sets/images/8031-1.jpg\"/>"
      ],
      "text/plain": [
       "<IPython.core.display.Image object>"
      ]
     },
     "metadata": {},
     "output_type": "display_data"
    },
    {
     "data": {
      "text/html": [
       "<img src=\"http://images.brickset.com/sets/images/20006-1.jpg\"/>"
      ],
      "text/plain": [
       "<IPython.core.display.Image object>"
      ]
     },
     "metadata": {},
     "output_type": "display_data"
    },
    {
     "data": {
      "text/html": [
       "<img src=\"http://images.brickset.com/sets/images/8028-1.jpg\"/>"
      ],
      "text/plain": [
       "<IPython.core.display.Image object>"
      ]
     },
     "metadata": {},
     "output_type": "display_data"
    }
   ],
   "source": [
    "for ii, row in stas.iterrows():\n",
    "    try:\n",
    "        display(Image(url=get_link(row.SetID)))\n",
    "    except ValueError:\n",
    "         print(\"Oops!  \")"
   ]
  },
  {
   "cell_type": "code",
   "execution_count": 137,
   "metadata": {
    "collapsed": true
   },
   "outputs": [],
   "source": [
    "ant = dane_star.loc[dane_star['Year'] == 2011,:]"
   ]
  },
  {
   "cell_type": "code",
   "execution_count": 139,
   "metadata": {},
   "outputs": [
    {
     "data": {
      "text/html": [
       "<img src=\"http://images.brickset.com/sets/images/10221-1.jpg\"/>"
      ],
      "text/plain": [
       "<IPython.core.display.Image object>"
      ]
     },
     "metadata": {},
     "output_type": "display_data"
    },
    {
     "data": {
      "text/html": [
       "<img src=\"http://images.brickset.com/sets/images/7965-1.jpg\"/>"
      ],
      "text/plain": [
       "<IPython.core.display.Image object>"
      ]
     },
     "metadata": {},
     "output_type": "display_data"
    },
    {
     "data": {
      "text/html": [
       "<img src=\"http://images.brickset.com/sets/images/7964-1.jpg\"/>"
      ],
      "text/plain": [
       "<IPython.core.display.Image object>"
      ]
     },
     "metadata": {},
     "output_type": "display_data"
    },
    {
     "data": {
      "text/html": [
       "<img src=\"http://images.brickset.com/sets/images/7962-1.jpg\"/>"
      ],
      "text/plain": [
       "<IPython.core.display.Image object>"
      ]
     },
     "metadata": {},
     "output_type": "display_data"
    },
    {
     "data": {
      "text/html": [
       "<img src=\"http://images.brickset.com/sets/images/7879-1.jpg\"/>"
      ],
      "text/plain": [
       "<IPython.core.display.Image object>"
      ]
     },
     "metadata": {},
     "output_type": "display_data"
    },
    {
     "data": {
      "text/html": [
       "<img src=\"http://images.brickset.com/sets/images/66396-1.jpg\"/>"
      ],
      "text/plain": [
       "<IPython.core.display.Image object>"
      ]
     },
     "metadata": {},
     "output_type": "display_data"
    },
    {
     "data": {
      "text/html": [
       "<img src=\"http://images.brickset.com/sets/images/66377-1.jpg\"/>"
      ],
      "text/plain": [
       "<IPython.core.display.Image object>"
      ]
     },
     "metadata": {},
     "output_type": "display_data"
    },
    {
     "data": {
      "text/html": [
       "<img src=\"http://images.brickset.com/sets/images/7961-1.jpg\"/>"
      ],
      "text/plain": [
       "<IPython.core.display.Image object>"
      ]
     },
     "metadata": {},
     "output_type": "display_data"
    },
    {
     "data": {
      "text/html": [
       "<img src=\"http://images.brickset.com/sets/images/7930-1.jpg\"/>"
      ],
      "text/plain": [
       "<IPython.core.display.Image object>"
      ]
     },
     "metadata": {},
     "output_type": "display_data"
    },
    {
     "data": {
      "text/html": [
       "<img src=\"http://images.brickset.com/sets/images/7931-1.jpg\"/>"
      ],
      "text/plain": [
       "<IPython.core.display.Image object>"
      ]
     },
     "metadata": {},
     "output_type": "display_data"
    },
    {
     "data": {
      "text/html": [
       "<img src=\"http://images.brickset.com/sets/images/66395-1.jpg\"/>"
      ],
      "text/plain": [
       "<IPython.core.display.Image object>"
      ]
     },
     "metadata": {},
     "output_type": "display_data"
    },
    {
     "data": {
      "text/html": [
       "<img src=\"http://images.brickset.com/sets/images/7869-1.jpg\"/>"
      ],
      "text/plain": [
       "<IPython.core.display.Image object>"
      ]
     },
     "metadata": {},
     "output_type": "display_data"
    },
    {
     "data": {
      "text/html": [
       "<img src=\"http://images.brickset.com/sets/images/66378-1.jpg\"/>"
      ],
      "text/plain": [
       "<IPython.core.display.Image object>"
      ]
     },
     "metadata": {},
     "output_type": "display_data"
    },
    {
     "data": {
      "text/html": [
       "<img src=\"http://images.brickset.com/sets/images/7877-1.jpg\"/>"
      ],
      "text/plain": [
       "<IPython.core.display.Image object>"
      ]
     },
     "metadata": {},
     "output_type": "display_data"
    },
    {
     "data": {
      "text/html": [
       "<img src=\"http://images.brickset.com/sets/images/7868-1.jpg\"/>"
      ],
      "text/plain": [
       "<IPython.core.display.Image object>"
      ]
     },
     "metadata": {},
     "output_type": "display_data"
    },
    {
     "data": {
      "text/html": [
       "<img src=\"http://images.brickset.com/sets/images/7958-1.jpg\"/>"
      ],
      "text/plain": [
       "<IPython.core.display.Image object>"
      ]
     },
     "metadata": {},
     "output_type": "display_data"
    },
    {
     "data": {
      "text/html": [
       "<img src=\"http://images.brickset.com/sets/images/COMCON015-1.jpg\"/>"
      ],
      "text/plain": [
       "<IPython.core.display.Image object>"
      ]
     },
     "metadata": {},
     "output_type": "display_data"
    },
    {
     "data": {
      "text/html": [
       "<img src=\"http://images.brickset.com/sets/images/7929-1.jpg\"/>"
      ],
      "text/plain": [
       "<IPython.core.display.Image object>"
      ]
     },
     "metadata": {},
     "output_type": "display_data"
    },
    {
     "data": {
      "text/html": [
       "<img src=\"http://images.brickset.com/sets/images/7957-1.jpg\"/>"
      ],
      "text/plain": [
       "<IPython.core.display.Image object>"
      ]
     },
     "metadata": {},
     "output_type": "display_data"
    },
    {
     "data": {
      "text/html": [
       "<img src=\"http://images.brickset.com/sets/images/7956-1.jpg\"/>"
      ],
      "text/plain": [
       "<IPython.core.display.Image object>"
      ]
     },
     "metadata": {},
     "output_type": "display_data"
    },
    {
     "data": {
      "text/html": [
       "<img src=\"http://images.brickset.com/sets/images/7959-1.jpg\"/>"
      ],
      "text/plain": [
       "<IPython.core.display.Image object>"
      ]
     },
     "metadata": {},
     "output_type": "display_data"
    },
    {
     "data": {
      "text/html": [
       "<img src=\"http://images.brickset.com/sets/images/PROMOSW007-1.jpg\"/>"
      ],
      "text/plain": [
       "<IPython.core.display.Image object>"
      ]
     },
     "metadata": {},
     "output_type": "display_data"
    },
    {
     "data": {
      "text/html": [
       "<img src=\"http://images.brickset.com/sets/images/7915-1.jpg\"/>"
      ],
      "text/plain": [
       "<IPython.core.display.Image object>"
      ]
     },
     "metadata": {},
     "output_type": "display_data"
    },
    {
     "data": {
      "text/html": [
       "<img src=\"http://images.brickset.com/sets/images/7913-1.jpg\"/>"
      ],
      "text/plain": [
       "<IPython.core.display.Image object>"
      ]
     },
     "metadata": {},
     "output_type": "display_data"
    },
    {
     "data": {
      "text/html": [
       "<img src=\"http://images.brickset.com/sets/images/20021-1.jpg\"/>"
      ],
      "text/plain": [
       "<IPython.core.display.Image object>"
      ]
     },
     "metadata": {},
     "output_type": "display_data"
    },
    {
     "data": {
      "text/html": [
       "<img src=\"http://images.brickset.com/sets/images/20019-1.jpg\"/>"
      ],
      "text/plain": [
       "<IPython.core.display.Image object>"
      ]
     },
     "metadata": {},
     "output_type": "display_data"
    },
    {
     "data": {
      "text/html": [
       "<img src=\"http://images.brickset.com/sets/images/7914-1.jpg\"/>"
      ],
      "text/plain": [
       "<IPython.core.display.Image object>"
      ]
     },
     "metadata": {},
     "output_type": "display_data"
    },
    {
     "data": {
      "text/html": [
       "<img src=\"http://images.brickset.com/sets/images/30051-1.jpg\"/>"
      ],
      "text/plain": [
       "<IPython.core.display.Image object>"
      ]
     },
     "metadata": {},
     "output_type": "display_data"
    },
    {
     "data": {
      "text/html": [
       "<img src=\"http://images.brickset.com/sets/images/30052-1.jpg\"/>"
      ],
      "text/plain": [
       "<IPython.core.display.Image object>"
      ]
     },
     "metadata": {},
     "output_type": "display_data"
    },
    {
     "data": {
      "text/html": [
       "<img src=\"http://images.brickset.com/sets/images/30054-1.jpg\"/>"
      ],
      "text/plain": [
       "<IPython.core.display.Image object>"
      ]
     },
     "metadata": {},
     "output_type": "display_data"
    },
    {
     "data": {
      "text/html": [
       "<img src=\"http://images.brickset.com/sets/images/30055-1.jpg\"/>"
      ],
      "text/plain": [
       "<IPython.core.display.Image object>"
      ]
     },
     "metadata": {},
     "output_type": "display_data"
    },
    {
     "data": {
      "text/html": [
       "<img src=\"http://images.brickset.com/sets/images/30053-1.jpg\"/>"
      ],
      "text/plain": [
       "<IPython.core.display.Image object>"
      ]
     },
     "metadata": {},
     "output_type": "display_data"
    },
    {
     "data": {
      "text/html": [
       "<img src=\"http://images.brickset.com/sets/images/2856197-1.jpg\"/>"
      ],
      "text/plain": [
       "<IPython.core.display.Image object>"
      ]
     },
     "metadata": {},
     "output_type": "display_data"
    }
   ],
   "source": [
    "for ii, row in ant.iterrows():\n",
    "    try:\n",
    "        display(Image(url=get_link(row.SetID)))\n",
    "    except ValueError:\n",
    "         print(\"Oops!  \")"
   ]
  },
  {
   "cell_type": "code",
   "execution_count": null,
   "metadata": {
    "collapsed": true
   },
   "outputs": [],
   "source": []
  }
 ],
 "metadata": {
  "kernelspec": {
   "display_name": "Python 3",
   "language": "python",
   "name": "python3"
  },
  "language_info": {
   "codemirror_mode": {
    "name": "ipython",
    "version": 3
   },
   "file_extension": ".py",
   "mimetype": "text/x-python",
   "name": "python",
   "nbconvert_exporter": "python",
   "pygments_lexer": "ipython3",
   "version": "3.6.1"
  }
 },
 "nbformat": 4,
 "nbformat_minor": 2
}
